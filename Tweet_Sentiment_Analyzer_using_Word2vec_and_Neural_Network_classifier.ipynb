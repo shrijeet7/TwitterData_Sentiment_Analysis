{
 "cells": [
  {
   "cell_type": "markdown",
   "metadata": {},
   "source": [
    "# IMPORTS:"
   ]
  },
  {
   "cell_type": "code",
   "execution_count": 1,
   "metadata": {},
   "outputs": [
    {
     "name": "stderr",
     "output_type": "stream",
     "text": [
      "Using TensorFlow backend.\n"
     ]
    }
   ],
   "source": [
    "import pandas as pd\n",
    "import numpy as np\n",
    "import re\n",
    "import string\n",
    "import emoji\n",
    "import os\n",
    "import random as rn\n",
    "import tensorflow as tf\n",
    "import matplotlib.pyplot as plt  \n",
    "\n",
    "from textblob import TextBlob\n",
    "from nltk.corpus import stopwords\n",
    "from nltk.tokenize import word_tokenize\n",
    "from nltk.stem import WordNetLemmatizer\n",
    "from gensim.models.word2vec import Word2Vec\n",
    "\n",
    "from sklearn.preprocessing import OneHotEncoder\n",
    "from sklearn.model_selection import train_test_split\n",
    "from sklearn.metrics import confusion_matrix \n",
    "from sklearn.metrics import accuracy_score\n",
    "from sklearn.metrics import confusion_matrix \n",
    "from sklearn.metrics import precision_score\n",
    "from sklearn.metrics import recall_score\n",
    "from sklearn.metrics import f1_score\n",
    "\n",
    "from keras import backend as K\n",
    "from keras.layers import Input, Dense\n",
    "from keras.models import Sequential\n",
    "from keras.models import Model\n",
    "from keras.layers.core import Dropout\n",
    "from keras import regularizers\n",
    "\n",
    "%matplotlib inline"
   ]
  },
  {
   "cell_type": "markdown",
   "metadata": {},
   "source": [
    "# Settings for better readabilty and shuting down tensorflow warnings\n",
    "     run cell below only once"
   ]
  },
  {
   "cell_type": "code",
   "execution_count": 2,
   "metadata": {},
   "outputs": [],
   "source": [
    "pd.set_option('display.max_colwidth', -1) # to view full content of each cell"
   ]
  },
  {
   "cell_type": "markdown",
   "metadata": {},
   "source": [
    "# Load And analyse the dataset we created by extracting tweets from twitter using Tweepy API"
   ]
  },
  {
   "cell_type": "code",
   "execution_count": 3,
   "metadata": {},
   "outputs": [
    {
     "data": {
      "text/html": [
       "<div>\n",
       "<style scoped>\n",
       "    .dataframe tbody tr th:only-of-type {\n",
       "        vertical-align: middle;\n",
       "    }\n",
       "\n",
       "    .dataframe tbody tr th {\n",
       "        vertical-align: top;\n",
       "    }\n",
       "\n",
       "    .dataframe thead th {\n",
       "        text-align: right;\n",
       "    }\n",
       "</style>\n",
       "<table border=\"1\" class=\"dataframe\">\n",
       "  <thead>\n",
       "    <tr style=\"text-align: right;\">\n",
       "      <th></th>\n",
       "      <th>ID</th>\n",
       "      <th>Date- Time</th>\n",
       "      <th>User_Name</th>\n",
       "      <th>Tweet</th>\n",
       "      <th>Sentiment</th>\n",
       "    </tr>\n",
       "  </thead>\n",
       "  <tbody>\n",
       "    <tr>\n",
       "      <th>0</th>\n",
       "      <td>1286896213657346050</td>\n",
       "      <td>2020-07-25 05:29:01</td>\n",
       "      <td>BALLl</td>\n",
       "      <td>i need to make my own SapceX, some people dont deserve to live here</td>\n",
       "      <td>positive</td>\n",
       "    </tr>\n",
       "    <tr>\n",
       "      <th>1</th>\n",
       "      <td>1286905185273610241</td>\n",
       "      <td>2020-07-25 06:04:40</td>\n",
       "      <td>T:HE:JAMES. HMRH</td>\n",
       "      <td>Thre was mention of this earlier, the infraction on the views of the cosmos from the SapceX array and how astronomy would compensate. https://t.co/I5omeFq4SM</td>\n",
       "      <td>neutral</td>\n",
       "    </tr>\n",
       "    <tr>\n",
       "      <th>2</th>\n",
       "      <td>1287391022218006531</td>\n",
       "      <td>2020-07-26 14:15:12</td>\n",
       "      <td>Anshi Pathak</td>\n",
       "      <td>@bhab005 @KanganaTeam @kunalpande8 Sachine Tendulkar handle his account and but here kangana team handles her. That's the difference here. And if she is doing that what's funny. She has earned that right. Also Jo log khud nahi bolte h wo dusron se bulwate Hain. Wo khud bol rahi h to galat. Kya h.</td>\n",
       "      <td>positive</td>\n",
       "    </tr>\n",
       "    <tr>\n",
       "      <th>3</th>\n",
       "      <td>1287495418180501505</td>\n",
       "      <td>2020-07-26 21:10:02</td>\n",
       "      <td>Goodauld69th</td>\n",
       "      <td>Mainly stoltenberg scandanavian cowardly attacks oil pipe lines then running like weird inbred fish savages to underground bunkers i wont dive into it but that world is over and like nazis there being spitefull and abusive and fucking everything up because there dumb inbreds</td>\n",
       "      <td>negative</td>\n",
       "    </tr>\n",
       "    <tr>\n",
       "      <th>4</th>\n",
       "      <td>1287731665452769280</td>\n",
       "      <td>2020-07-27 12:48:48</td>\n",
       "      <td>Sardar Khan</td>\n",
       "      <td>@gareebscientist @GauravG91 @Chandel1402 @isro @SpaceX He I mean... Vaibhav....spacex is doing great work.. But its unfair to compare two.. No offense to sapcex but I will chose ISRO over spacex AnyDay....</td>\n",
       "      <td>negative</td>\n",
       "    </tr>\n",
       "  </tbody>\n",
       "</table>\n",
       "</div>"
      ],
      "text/plain": [
       "                    ID           Date- Time         User_Name  \\\n",
       "0  1286896213657346050  2020-07-25 05:29:01  BALLl              \n",
       "1  1286905185273610241  2020-07-25 06:04:40  T:HE:JAMES. HMRH   \n",
       "2  1287391022218006531  2020-07-26 14:15:12  Anshi Pathak       \n",
       "3  1287495418180501505  2020-07-26 21:10:02  Goodauld69th       \n",
       "4  1287731665452769280  2020-07-27 12:48:48  Sardar Khan        \n",
       "\n",
       "                                                                                                                                                                                                                                                                                                       Tweet  \\\n",
       "0  i need to make my own SapceX, some people dont deserve to live here                                                                                                                                                                                                                                         \n",
       "1  Thre was mention of this earlier, the infraction on the views of the cosmos from the SapceX array and how astronomy would compensate. https://t.co/I5omeFq4SM                                                                                                                                               \n",
       "2  @bhab005 @KanganaTeam @kunalpande8 Sachine Tendulkar handle his account and but here kangana team handles her. That's the difference here. And if she is doing that what's funny. She has earned that right. Also Jo log khud nahi bolte h wo dusron se bulwate Hain. Wo khud bol rahi h to galat. Kya h.   \n",
       "3  Mainly stoltenberg scandanavian cowardly attacks oil pipe lines then running like weird inbred fish savages to underground bunkers i wont dive into it but that world is over and like nazis there being spitefull and abusive and fucking everything up because there dumb inbreds                         \n",
       "4  @gareebscientist @GauravG91 @Chandel1402 @isro @SpaceX He I mean... Vaibhav....spacex is doing great work.. But its unfair to compare two.. No offense to sapcex but I will chose ISRO over spacex AnyDay....                                                                                               \n",
       "\n",
       "  Sentiment  \n",
       "0  positive  \n",
       "1  neutral   \n",
       "2  positive  \n",
       "3  negative  \n",
       "4  negative  "
      ]
     },
     "execution_count": 3,
     "metadata": {},
     "output_type": "execute_result"
    }
   ],
   "source": [
    "tweets = pd.read_csv('TweetlabelledFinal.csv')\n",
    "tweets.head()"
   ]
  },
  {
   "cell_type": "code",
   "execution_count": 4,
   "metadata": {},
   "outputs": [
    {
     "name": "stdout",
     "output_type": "stream",
     "text": [
      "<class 'pandas.core.frame.DataFrame'>\n",
      "RangeIndex: 29348 entries, 0 to 29347\n",
      "Data columns (total 5 columns):\n",
      "ID            29348 non-null int64\n",
      "Date- Time    29348 non-null object\n",
      "User_Name     29345 non-null object\n",
      "Tweet         29348 non-null object\n",
      "Sentiment     29348 non-null object\n",
      "dtypes: int64(1), object(4)\n",
      "memory usage: 1.1+ MB\n"
     ]
    }
   ],
   "source": [
    "tweets.info()"
   ]
  },
  {
   "cell_type": "code",
   "execution_count": 5,
   "metadata": {},
   "outputs": [
    {
     "data": {
      "text/html": [
       "<div>\n",
       "<style scoped>\n",
       "    .dataframe tbody tr th:only-of-type {\n",
       "        vertical-align: middle;\n",
       "    }\n",
       "\n",
       "    .dataframe tbody tr th {\n",
       "        vertical-align: top;\n",
       "    }\n",
       "\n",
       "    .dataframe thead th {\n",
       "        text-align: right;\n",
       "    }\n",
       "</style>\n",
       "<table border=\"1\" class=\"dataframe\">\n",
       "  <thead>\n",
       "    <tr style=\"text-align: right;\">\n",
       "      <th></th>\n",
       "      <th>Sentiment</th>\n",
       "      <th>Tweet</th>\n",
       "    </tr>\n",
       "  </thead>\n",
       "  <tbody>\n",
       "    <tr>\n",
       "      <th>0</th>\n",
       "      <td>positive</td>\n",
       "      <td>i need to make my own SapceX, some people dont deserve to live here</td>\n",
       "    </tr>\n",
       "    <tr>\n",
       "      <th>1</th>\n",
       "      <td>neutral</td>\n",
       "      <td>Thre was mention of this earlier, the infraction on the views of the cosmos from the SapceX array and how astronomy would compensate. https://t.co/I5omeFq4SM</td>\n",
       "    </tr>\n",
       "    <tr>\n",
       "      <th>2</th>\n",
       "      <td>positive</td>\n",
       "      <td>@bhab005 @KanganaTeam @kunalpande8 Sachine Tendulkar handle his account and but here kangana team handles her. That's the difference here. And if she is doing that what's funny. She has earned that right. Also Jo log khud nahi bolte h wo dusron se bulwate Hain. Wo khud bol rahi h to galat. Kya h.</td>\n",
       "    </tr>\n",
       "    <tr>\n",
       "      <th>3</th>\n",
       "      <td>negative</td>\n",
       "      <td>Mainly stoltenberg scandanavian cowardly attacks oil pipe lines then running like weird inbred fish savages to underground bunkers i wont dive into it but that world is over and like nazis there being spitefull and abusive and fucking everything up because there dumb inbreds</td>\n",
       "    </tr>\n",
       "    <tr>\n",
       "      <th>4</th>\n",
       "      <td>negative</td>\n",
       "      <td>@gareebscientist @GauravG91 @Chandel1402 @isro @SpaceX He I mean... Vaibhav....spacex is doing great work.. But its unfair to compare two.. No offense to sapcex but I will chose ISRO over spacex AnyDay....</td>\n",
       "    </tr>\n",
       "  </tbody>\n",
       "</table>\n",
       "</div>"
      ],
      "text/plain": [
       "  Sentiment  \\\n",
       "0  positive   \n",
       "1  neutral    \n",
       "2  positive   \n",
       "3  negative   \n",
       "4  negative   \n",
       "\n",
       "                                                                                                                                                                                                                                                                                                       Tweet  \n",
       "0  i need to make my own SapceX, some people dont deserve to live here                                                                                                                                                                                                                                        \n",
       "1  Thre was mention of this earlier, the infraction on the views of the cosmos from the SapceX array and how astronomy would compensate. https://t.co/I5omeFq4SM                                                                                                                                              \n",
       "2  @bhab005 @KanganaTeam @kunalpande8 Sachine Tendulkar handle his account and but here kangana team handles her. That's the difference here. And if she is doing that what's funny. She has earned that right. Also Jo log khud nahi bolte h wo dusron se bulwate Hain. Wo khud bol rahi h to galat. Kya h.  \n",
       "3  Mainly stoltenberg scandanavian cowardly attacks oil pipe lines then running like weird inbred fish savages to underground bunkers i wont dive into it but that world is over and like nazis there being spitefull and abusive and fucking everything up because there dumb inbreds                        \n",
       "4  @gareebscientist @GauravG91 @Chandel1402 @isro @SpaceX He I mean... Vaibhav....spacex is doing great work.. But its unfair to compare two.. No offense to sapcex but I will chose ISRO over spacex AnyDay....                                                                                              "
      ]
     },
     "execution_count": 5,
     "metadata": {},
     "output_type": "execute_result"
    }
   ],
   "source": [
    "tweets= tweets[['Sentiment','Tweet']]\n",
    "tweets.head()"
   ]
  },
  {
   "cell_type": "markdown",
   "metadata": {},
   "source": [
    "# Cleaning Data\n",
    "\n",
    "        From the tweets we need to remove:\n",
    "        1. mentions or usernames : @abcd\n",
    "        2. Hashtags : #happy --> happy\n",
    "        3. convert all tweets in Lowercase :\n",
    "                this is done because upeercase and lower case charecters are treated as differnt as a result \n",
    "                while converting a word in vector , same words may give different vectors if the casing of the letters\n",
    "                in the words varies.\n",
    "        4. Remove extra white spaces\n",
    "        5. Remove numbers/digits\n",
    "        6. Remove Hyperlinks\n",
    "        7. Remove New Lines\n",
    "        \n",
    "        re.sub(r'@[A-za-z0-9]+','',text) :\n",
    "        r: tells python the text is raw text\n",
    "        @[A-za-z0-9]+ : any pattern starting with @ and followed by letterts or alphabet one or more.\n",
    "\n",
    "        'http?s:\\/\\/\\S+' : remove http, '?s' means s may or may not be present folowwed by // till we  \n",
    "                           get one or more white space denoted by'S+'"
   ]
  },
  {
   "cell_type": "code",
   "execution_count": 6,
   "metadata": {},
   "outputs": [],
   "source": [
    "# create a function to clean text\n",
    "def cleanTxt(text):\n",
    "    text= re.sub(r'@[A-za-z0-9]+','',text) # remove mentions\n",
    "    text= re.sub(r'#','',text) # remove # from text\n",
    "    text= re.sub(r'http?s:\\/\\/\\S+','',text) # remove Hyperlink\n",
    "    text= re.sub(r'\\n',' ',text) # remove new line\n",
    "    text = re.sub(r'\\d+','', text) # remove numbers\n",
    "    \n",
    "    # remove punctuations and convert characters to lower case\n",
    "    text = \"\".join([char.lower() for char in text if char not in string.punctuation]) \n",
    "    # substitute multiple whitespace with single whitespace\n",
    "    # Also, removes leading and trailing whitespaces\n",
    "    text = re.sub('\\s+', ' ', text).strip()\n",
    "    \n",
    "    return text"
   ]
  },
  {
   "cell_type": "markdown",
   "metadata": {},
   "source": [
    "# Apply cleanTxt to our data"
   ]
  },
  {
   "cell_type": "code",
   "execution_count": 7,
   "metadata": {},
   "outputs": [
    {
     "data": {
      "text/html": [
       "<div>\n",
       "<style scoped>\n",
       "    .dataframe tbody tr th:only-of-type {\n",
       "        vertical-align: middle;\n",
       "    }\n",
       "\n",
       "    .dataframe tbody tr th {\n",
       "        vertical-align: top;\n",
       "    }\n",
       "\n",
       "    .dataframe thead th {\n",
       "        text-align: right;\n",
       "    }\n",
       "</style>\n",
       "<table border=\"1\" class=\"dataframe\">\n",
       "  <thead>\n",
       "    <tr style=\"text-align: right;\">\n",
       "      <th></th>\n",
       "      <th>Sentiment</th>\n",
       "      <th>Tweet</th>\n",
       "    </tr>\n",
       "  </thead>\n",
       "  <tbody>\n",
       "    <tr>\n",
       "      <th>0</th>\n",
       "      <td>positive</td>\n",
       "      <td>i need to make my own sapcex some people dont deserve to live here</td>\n",
       "    </tr>\n",
       "    <tr>\n",
       "      <th>1</th>\n",
       "      <td>neutral</td>\n",
       "      <td>thre was mention of this earlier the infraction on the views of the cosmos from the sapcex array and how astronomy would compensate</td>\n",
       "    </tr>\n",
       "    <tr>\n",
       "      <th>2</th>\n",
       "      <td>positive</td>\n",
       "      <td>sachine tendulkar handle his account and but here kangana team handles her thats the difference here and if she is doing that whats funny she has earned that right also jo log khud nahi bolte h wo dusron se bulwate hain wo khud bol rahi h to galat kya h</td>\n",
       "    </tr>\n",
       "    <tr>\n",
       "      <th>3</th>\n",
       "      <td>negative</td>\n",
       "      <td>mainly stoltenberg scandanavian cowardly attacks oil pipe lines then running like weird inbred fish savages to underground bunkers i wont dive into it but that world is over and like nazis there being spitefull and abusive and fucking everything up because there dumb inbreds</td>\n",
       "    </tr>\n",
       "    <tr>\n",
       "      <th>4</th>\n",
       "      <td>negative</td>\n",
       "      <td>he i mean vaibhavspacex is doing great work but its unfair to compare two no offense to sapcex but i will chose isro over spacex anyday</td>\n",
       "    </tr>\n",
       "  </tbody>\n",
       "</table>\n",
       "</div>"
      ],
      "text/plain": [
       "  Sentiment  \\\n",
       "0  positive   \n",
       "1  neutral    \n",
       "2  positive   \n",
       "3  negative   \n",
       "4  negative   \n",
       "\n",
       "                                                                                                                                                                                                                                                                                 Tweet  \n",
       "0  i need to make my own sapcex some people dont deserve to live here                                                                                                                                                                                                                   \n",
       "1  thre was mention of this earlier the infraction on the views of the cosmos from the sapcex array and how astronomy would compensate                                                                                                                                                  \n",
       "2  sachine tendulkar handle his account and but here kangana team handles her thats the difference here and if she is doing that whats funny she has earned that right also jo log khud nahi bolte h wo dusron se bulwate hain wo khud bol rahi h to galat kya h                        \n",
       "3  mainly stoltenberg scandanavian cowardly attacks oil pipe lines then running like weird inbred fish savages to underground bunkers i wont dive into it but that world is over and like nazis there being spitefull and abusive and fucking everything up because there dumb inbreds  \n",
       "4  he i mean vaibhavspacex is doing great work but its unfair to compare two no offense to sapcex but i will chose isro over spacex anyday                                                                                                                                              "
      ]
     },
     "execution_count": 7,
     "metadata": {},
     "output_type": "execute_result"
    }
   ],
   "source": [
    "tweets['Tweet']= tweets['Tweet'].apply(cleanTxt)\n",
    "tweets.head()"
   ]
  },
  {
   "cell_type": "markdown",
   "metadata": {},
   "source": [
    "# The Tweets Still contains Emoji 😉  \n",
    "\n",
    "    we can either remove them or replace them with equivalent text as sometimes these emoji do carry valuable\n",
    "    sentiments/information \n",
    "    example:\n",
    "    The food was 😍 : the emoji suggest the food was good (positive sentiment)\n",
    "    The food was 😑 : the emoji sugeest the food was bad or average (negative sentiment)\n",
    "    without emoji the text \"The food was\" seems to be Neutral\n",
    "    \n",
    "    Therefore its better to retain the emoji by converting them to text in order to retain the actual sentiment \n",
    "    \n",
    "    Note:\n",
    "    while replcaing emoji , emoji that are represented by multiple words ex: Happy_face or red-heart\n",
    "    so we also need to replace the \"_\", \"-\" with blank space.\n",
    "    \n",
    "    delimiters=(\"\", \"\") : by default delimeters are : , : i.e the text for emoji will place between two colons\n",
    "                          so replace the colon with empty string."
   ]
  },
  {
   "cell_type": "code",
   "execution_count": 8,
   "metadata": {},
   "outputs": [],
   "source": [
    "def convertEmoji(text):\n",
    "    text = emoji.demojize(text, delimiters=(\"\", \"\"))\n",
    "    text = text = re.sub(r'_',' ', text) # replace underscore with single white space\n",
    "    text = text = re.sub(r'-',' ', text) # replace '-' with single white space\n",
    "    return text"
   ]
  },
  {
   "cell_type": "markdown",
   "metadata": {},
   "source": [
    "# Apply emoji conversion to our data"
   ]
  },
  {
   "cell_type": "code",
   "execution_count": 9,
   "metadata": {},
   "outputs": [
    {
     "data": {
      "text/html": [
       "<div>\n",
       "<style scoped>\n",
       "    .dataframe tbody tr th:only-of-type {\n",
       "        vertical-align: middle;\n",
       "    }\n",
       "\n",
       "    .dataframe tbody tr th {\n",
       "        vertical-align: top;\n",
       "    }\n",
       "\n",
       "    .dataframe thead th {\n",
       "        text-align: right;\n",
       "    }\n",
       "</style>\n",
       "<table border=\"1\" class=\"dataframe\">\n",
       "  <thead>\n",
       "    <tr style=\"text-align: right;\">\n",
       "      <th></th>\n",
       "      <th>Sentiment</th>\n",
       "      <th>Tweet</th>\n",
       "    </tr>\n",
       "  </thead>\n",
       "  <tbody>\n",
       "    <tr>\n",
       "      <th>0</th>\n",
       "      <td>positive</td>\n",
       "      <td>i need to make my own sapcex some people dont deserve to live here</td>\n",
       "    </tr>\n",
       "    <tr>\n",
       "      <th>1</th>\n",
       "      <td>neutral</td>\n",
       "      <td>thre was mention of this earlier the infraction on the views of the cosmos from the sapcex array and how astronomy would compensate</td>\n",
       "    </tr>\n",
       "    <tr>\n",
       "      <th>2</th>\n",
       "      <td>positive</td>\n",
       "      <td>sachine tendulkar handle his account and but here kangana team handles her thats the difference here and if she is doing that whats funny she has earned that right also jo log khud nahi bolte h wo dusron se bulwate hain wo khud bol rahi h to galat kya h</td>\n",
       "    </tr>\n",
       "    <tr>\n",
       "      <th>3</th>\n",
       "      <td>negative</td>\n",
       "      <td>mainly stoltenberg scandanavian cowardly attacks oil pipe lines then running like weird inbred fish savages to underground bunkers i wont dive into it but that world is over and like nazis there being spitefull and abusive and fucking everything up because there dumb inbreds</td>\n",
       "    </tr>\n",
       "    <tr>\n",
       "      <th>4</th>\n",
       "      <td>negative</td>\n",
       "      <td>he i mean vaibhavspacex is doing great work but its unfair to compare two no offense to sapcex but i will chose isro over spacex anyday</td>\n",
       "    </tr>\n",
       "  </tbody>\n",
       "</table>\n",
       "</div>"
      ],
      "text/plain": [
       "  Sentiment  \\\n",
       "0  positive   \n",
       "1  neutral    \n",
       "2  positive   \n",
       "3  negative   \n",
       "4  negative   \n",
       "\n",
       "                                                                                                                                                                                                                                                                                 Tweet  \n",
       "0  i need to make my own sapcex some people dont deserve to live here                                                                                                                                                                                                                   \n",
       "1  thre was mention of this earlier the infraction on the views of the cosmos from the sapcex array and how astronomy would compensate                                                                                                                                                  \n",
       "2  sachine tendulkar handle his account and but here kangana team handles her thats the difference here and if she is doing that whats funny she has earned that right also jo log khud nahi bolte h wo dusron se bulwate hain wo khud bol rahi h to galat kya h                        \n",
       "3  mainly stoltenberg scandanavian cowardly attacks oil pipe lines then running like weird inbred fish savages to underground bunkers i wont dive into it but that world is over and like nazis there being spitefull and abusive and fucking everything up because there dumb inbreds  \n",
       "4  he i mean vaibhavspacex is doing great work but its unfair to compare two no offense to sapcex but i will chose isro over spacex anyday                                                                                                                                              "
      ]
     },
     "execution_count": 9,
     "metadata": {},
     "output_type": "execute_result"
    }
   ],
   "source": [
    "tweets['Tweet']= tweets['Tweet'].apply(convertEmoji)\n",
    "tweets.head()"
   ]
  },
  {
   "cell_type": "markdown",
   "metadata": {},
   "source": [
    "# Now the Text free from mentions/Usernames , # , Hyperlinks and emojis are replaced with their meanings\n",
    "\n",
    "      also as the emoji are now converted to words , the sentiment of the tweet might change hence lets update \n",
    "      the sentiment accordingly"
   ]
  },
  {
   "cell_type": "code",
   "execution_count": 10,
   "metadata": {},
   "outputs": [],
   "source": [
    "def get_tweet_sentiment(tweet): \n",
    "    \n",
    "    # create TextBlob object of passed tweet text \n",
    "    analysis = TextBlob(tweet)\n",
    "    # set sentiment \n",
    "    if analysis.sentiment.polarity > 0: \n",
    "        return 1\n",
    "    elif analysis.sentiment.polarity == 0: \n",
    "        return 2\n",
    "    else: \n",
    "        return 0"
   ]
  },
  {
   "cell_type": "code",
   "execution_count": 11,
   "metadata": {},
   "outputs": [
    {
     "data": {
      "text/html": [
       "<div>\n",
       "<style scoped>\n",
       "    .dataframe tbody tr th:only-of-type {\n",
       "        vertical-align: middle;\n",
       "    }\n",
       "\n",
       "    .dataframe tbody tr th {\n",
       "        vertical-align: top;\n",
       "    }\n",
       "\n",
       "    .dataframe thead th {\n",
       "        text-align: right;\n",
       "    }\n",
       "</style>\n",
       "<table border=\"1\" class=\"dataframe\">\n",
       "  <thead>\n",
       "    <tr style=\"text-align: right;\">\n",
       "      <th></th>\n",
       "      <th>Sentiment</th>\n",
       "      <th>Tweet</th>\n",
       "    </tr>\n",
       "  </thead>\n",
       "  <tbody>\n",
       "    <tr>\n",
       "      <th>0</th>\n",
       "      <td>1</td>\n",
       "      <td>i need to make my own sapcex some people dont deserve to live here</td>\n",
       "    </tr>\n",
       "    <tr>\n",
       "      <th>1</th>\n",
       "      <td>2</td>\n",
       "      <td>thre was mention of this earlier the infraction on the views of the cosmos from the sapcex array and how astronomy would compensate</td>\n",
       "    </tr>\n",
       "    <tr>\n",
       "      <th>2</th>\n",
       "      <td>1</td>\n",
       "      <td>sachine tendulkar handle his account and but here kangana team handles her thats the difference here and if she is doing that whats funny she has earned that right also jo log khud nahi bolte h wo dusron se bulwate hain wo khud bol rahi h to galat kya h</td>\n",
       "    </tr>\n",
       "    <tr>\n",
       "      <th>3</th>\n",
       "      <td>0</td>\n",
       "      <td>mainly stoltenberg scandanavian cowardly attacks oil pipe lines then running like weird inbred fish savages to underground bunkers i wont dive into it but that world is over and like nazis there being spitefull and abusive and fucking everything up because there dumb inbreds</td>\n",
       "    </tr>\n",
       "    <tr>\n",
       "      <th>4</th>\n",
       "      <td>0</td>\n",
       "      <td>he i mean vaibhavspacex is doing great work but its unfair to compare two no offense to sapcex but i will chose isro over spacex anyday</td>\n",
       "    </tr>\n",
       "  </tbody>\n",
       "</table>\n",
       "</div>"
      ],
      "text/plain": [
       "   Sentiment  \\\n",
       "0  1           \n",
       "1  2           \n",
       "2  1           \n",
       "3  0           \n",
       "4  0           \n",
       "\n",
       "                                                                                                                                                                                                                                                                                 Tweet  \n",
       "0  i need to make my own sapcex some people dont deserve to live here                                                                                                                                                                                                                   \n",
       "1  thre was mention of this earlier the infraction on the views of the cosmos from the sapcex array and how astronomy would compensate                                                                                                                                                  \n",
       "2  sachine tendulkar handle his account and but here kangana team handles her thats the difference here and if she is doing that whats funny she has earned that right also jo log khud nahi bolte h wo dusron se bulwate hain wo khud bol rahi h to galat kya h                        \n",
       "3  mainly stoltenberg scandanavian cowardly attacks oil pipe lines then running like weird inbred fish savages to underground bunkers i wont dive into it but that world is over and like nazis there being spitefull and abusive and fucking everything up because there dumb inbreds  \n",
       "4  he i mean vaibhavspacex is doing great work but its unfair to compare two no offense to sapcex but i will chose isro over spacex anyday                                                                                                                                              "
      ]
     },
     "execution_count": 11,
     "metadata": {},
     "output_type": "execute_result"
    }
   ],
   "source": [
    "tweets['Sentiment']= tweets['Tweet'].apply(get_tweet_sentiment)\n",
    "tweets.head()"
   ]
  },
  {
   "cell_type": "markdown",
   "metadata": {},
   "source": [
    "# Now to Normailze the text , convert the text into tokens and perfrom stemming\n",
    "\n",
    "    Tokenizing: Turning the tweets into tokens. Tokens are words separated by spaces in a text.\n",
    "    \n",
    "    Normalization: Normalization generally refers to a series of related tasks meant to put all text on the same level.\n",
    "                   Converting text to lower case, removing special characters, and removing stopwords will remove basic\n",
    "                   inconsistencies. Normalization improves text matching.\n",
    "                   \n",
    "                   we have already done majority of normalization ,only stopwords removal remians.\n",
    "            \n",
    "     Stopword removal: Some words do not contribute much to the machine learning model, so it's good to remove them.\n",
    "                       \n",
    "     Stemming: Eliminating affixes (circumfixes, suffixes, prefixes, infixes) from a word in order to obtain a word stem.\n",
    "               Porter Stemmer is the most widely used technique because it is very fast.\n",
    "               Generally, stemming chops off end of the word, and mostly it works fine.\n",
    "               Example: Working -> Work\n",
    "               \n",
    "     Lemmatization: The goal is same as with stemming, but stemming a word sometimes loses the actual meaning of the word.\n",
    "                    Lemmatization usually refers to doing things properly using vocabulary and morphological analysis of\n",
    "                    words. It returns the base or dictionary form of a word, also known as the lemma .\n",
    "                Example: Better -> Good.\n",
    "                \n",
    "      Here i am going to use lemmatization\n",
    "      \n",
    "      syntax .lemmatize(word, pos='a'):\n",
    "              pos : part of speech tag , defualt : n (Noun)\n",
    "              pos = 'a' : adjective \n",
    "              example:\n",
    "              lemmatize('better',pos='a')==> good"
   ]
  },
  {
   "cell_type": "code",
   "execution_count": 12,
   "metadata": {},
   "outputs": [],
   "source": [
    "def Tokenization(tweet):\n",
    "    \n",
    "    #convert to tokens and filter out stopwords\n",
    "    stop_words = set(stopwords.words('english'))\n",
    "    tweet_tokens = word_tokenize(tweet) \n",
    "    filtered_words = [w for w in tweet_tokens if not w in stop_words]\n",
    "    \n",
    "    \n",
    "    lemmatizer = WordNetLemmatizer()\n",
    "    lemma_words = [lemmatizer.lemmatize(w, pos='a') for w in filtered_words]\n",
    "    \n",
    "    return \" \".join(lemma_words)"
   ]
  },
  {
   "cell_type": "markdown",
   "metadata": {},
   "source": [
    "# Apply Tokenization to the Tweets"
   ]
  },
  {
   "cell_type": "code",
   "execution_count": 13,
   "metadata": {},
   "outputs": [
    {
     "data": {
      "text/html": [
       "<div>\n",
       "<style scoped>\n",
       "    .dataframe tbody tr th:only-of-type {\n",
       "        vertical-align: middle;\n",
       "    }\n",
       "\n",
       "    .dataframe tbody tr th {\n",
       "        vertical-align: top;\n",
       "    }\n",
       "\n",
       "    .dataframe thead th {\n",
       "        text-align: right;\n",
       "    }\n",
       "</style>\n",
       "<table border=\"1\" class=\"dataframe\">\n",
       "  <thead>\n",
       "    <tr style=\"text-align: right;\">\n",
       "      <th></th>\n",
       "      <th>Sentiment</th>\n",
       "      <th>Tweet</th>\n",
       "      <th>Tweet_Tokenized</th>\n",
       "    </tr>\n",
       "  </thead>\n",
       "  <tbody>\n",
       "    <tr>\n",
       "      <th>29338</th>\n",
       "      <td>2</td>\n",
       "      <td>me in october vs me after four years of trump administration election night</td>\n",
       "      <td>october vs four years trump administration election night</td>\n",
       "    </tr>\n",
       "    <tr>\n",
       "      <th>29339</th>\n",
       "      <td>0</td>\n",
       "      <td>georgia still has at least votes left to count secretary of state says too close to call</td>\n",
       "      <td>georgia still least votes left count secretary state says close call</td>\n",
       "    </tr>\n",
       "    <tr>\n",
       "      <th>29340</th>\n",
       "      <td>1</td>\n",
       "      <td>urgent ayone who was told use sharpies get in touch w he needs to hear from you call him now watch s broadcast radio election too close to call legal battle begins</td>\n",
       "      <td>urgent ayone told use sharpies get touch w needs hear call watch broadcast radio election close call legal battle begins</td>\n",
       "    </tr>\n",
       "    <tr>\n",
       "      <th>29341</th>\n",
       "      <td>1</td>\n",
       "      <td>praying for arnab goswami to be safe amp sound praying for republic tv staff praying for freedom of speech praying for justice indiawitharnab glowing starglowing starglowing star</td>\n",
       "      <td>praying arnab goswami safe amp sound praying republic tv staff praying freedom speech praying justice indiawitharnab glowing starglowing starglowing star</td>\n",
       "    </tr>\n",
       "    <tr>\n",
       "      <th>29342</th>\n",
       "      <td>0</td>\n",
       "      <td>dont be fooled the delays in the us election result mean our system is working lawrence douglas</td>\n",
       "      <td>dont fooled delays us election result mean system working lawrence douglas</td>\n",
       "    </tr>\n",
       "    <tr>\n",
       "      <th>29343</th>\n",
       "      <td>2</td>\n",
       "      <td>bjp leader ram kadam to meet the maharashtra governor at am tomorrow to discuss the treatment meted out to arnab goswami</td>\n",
       "      <td>bjp leader ram kadam meet maharashtra governor tomorrow discuss treatment meted arnab goswami</td>\n",
       "    </tr>\n",
       "    <tr>\n",
       "      <th>29344</th>\n",
       "      <td>0</td>\n",
       "      <td>gained one here black lives matter poc lives matter</td>\n",
       "      <td>gained one black lives matter poc lives matter</td>\n",
       "    </tr>\n",
       "    <tr>\n",
       "      <th>29345</th>\n",
       "      <td>2</td>\n",
       "      <td>baat achhi hai but bjp needs to ensure his safety and wellbeing congress minister has already cleared that one team is formed only to harass arnab goswami</td>\n",
       "      <td>baat achhi hai bjp needs ensure safety wellbeing congress minister already cleared one team formed harass arnab goswami</td>\n",
       "    </tr>\n",
       "    <tr>\n",
       "      <th>29346</th>\n",
       "      <td>2</td>\n",
       "      <td>mohamed salah rates liverpools champions league chances as rio ferdinand backs reds</td>\n",
       "      <td>mohamed salah rates liverpools champions league chances rio ferdinand backs reds</td>\n",
       "    </tr>\n",
       "    <tr>\n",
       "      <th>29347</th>\n",
       "      <td>0</td>\n",
       "      <td>people used to think arnab was a spokesman of the bjp well people were wrong bjp is the spokesperson of arnab goswami</td>\n",
       "      <td>people used think arnab spokesman bjp well people wrong bjp spokesperson arnab goswami</td>\n",
       "    </tr>\n",
       "  </tbody>\n",
       "</table>\n",
       "</div>"
      ],
      "text/plain": [
       "       Sentiment  \\\n",
       "29338  2           \n",
       "29339  0           \n",
       "29340  1           \n",
       "29341  1           \n",
       "29342  0           \n",
       "29343  2           \n",
       "29344  0           \n",
       "29345  2           \n",
       "29346  2           \n",
       "29347  0           \n",
       "\n",
       "                                                                                                                                                                                    Tweet  \\\n",
       "29338  me in october vs me after four years of trump administration election night                                                                                                          \n",
       "29339  georgia still has at least votes left to count secretary of state says too close to call                                                                                             \n",
       "29340  urgent ayone who was told use sharpies get in touch w he needs to hear from you call him now watch s broadcast radio election too close to call legal battle begins                  \n",
       "29341  praying for arnab goswami to be safe amp sound praying for republic tv staff praying for freedom of speech praying for justice indiawitharnab glowing starglowing starglowing star   \n",
       "29342  dont be fooled the delays in the us election result mean our system is working lawrence douglas                                                                                      \n",
       "29343  bjp leader ram kadam to meet the maharashtra governor at am tomorrow to discuss the treatment meted out to arnab goswami                                                             \n",
       "29344  gained one here black lives matter poc lives matter                                                                                                                                  \n",
       "29345  baat achhi hai but bjp needs to ensure his safety and wellbeing congress minister has already cleared that one team is formed only to harass arnab goswami                           \n",
       "29346  mohamed salah rates liverpools champions league chances as rio ferdinand backs reds                                                                                                  \n",
       "29347  people used to think arnab was a spokesman of the bjp well people were wrong bjp is the spokesperson of arnab goswami                                                                \n",
       "\n",
       "                                                                                                                                                 Tweet_Tokenized  \n",
       "29338  october vs four years trump administration election night                                                                                                  \n",
       "29339  georgia still least votes left count secretary state says close call                                                                                       \n",
       "29340  urgent ayone told use sharpies get touch w needs hear call watch broadcast radio election close call legal battle begins                                   \n",
       "29341  praying arnab goswami safe amp sound praying republic tv staff praying freedom speech praying justice indiawitharnab glowing starglowing starglowing star  \n",
       "29342  dont fooled delays us election result mean system working lawrence douglas                                                                                 \n",
       "29343  bjp leader ram kadam meet maharashtra governor tomorrow discuss treatment meted arnab goswami                                                              \n",
       "29344  gained one black lives matter poc lives matter                                                                                                             \n",
       "29345  baat achhi hai bjp needs ensure safety wellbeing congress minister already cleared one team formed harass arnab goswami                                    \n",
       "29346  mohamed salah rates liverpools champions league chances rio ferdinand backs reds                                                                           \n",
       "29347  people used think arnab spokesman bjp well people wrong bjp spokesperson arnab goswami                                                                     "
      ]
     },
     "execution_count": 13,
     "metadata": {},
     "output_type": "execute_result"
    }
   ],
   "source": [
    "tweets['Tweet_Tokenized']= tweets['Tweet'].apply(Tokenization)\n",
    "tweets.tail(10)"
   ]
  },
  {
   "cell_type": "code",
   "execution_count": 14,
   "metadata": {},
   "outputs": [
    {
     "data": {
      "text/plain": [
       "array(['need make sapcex people dont deserve live',\n",
       "       'thre mention early infraction views cosmos sapcex array astronomy would compensate',\n",
       "       'sachine tendulkar handle account kangana team handles thats difference whats funny earned right also jo log khud nahi bolte h wo dusron se bulwate hain wo khud bol rahi h galat kya h',\n",
       "       ...,\n",
       "       'baat achhi hai bjp needs ensure safety wellbeing congress minister already cleared one team formed harass arnab goswami',\n",
       "       'mohamed salah rates liverpools champions league chances rio ferdinand backs reds',\n",
       "       'people used think arnab spokesman bjp well people wrong bjp spokesperson arnab goswami'],\n",
       "      dtype=object)"
      ]
     },
     "execution_count": 14,
     "metadata": {},
     "output_type": "execute_result"
    }
   ],
   "source": [
    "tweets_array = tweets['Tweet_Tokenized'].values\n",
    "tweets_array"
   ]
  },
  {
   "cell_type": "markdown",
   "metadata": {},
   "source": [
    "# Convert labels in One hot encoded vectors\n",
    "    \n",
    "        negetive (0) = [1,0,0]\n",
    "        positive (1) = [0,1,0]\n",
    "        neutral (2) =  [0,0,1]"
   ]
  },
  {
   "cell_type": "code",
   "execution_count": 15,
   "metadata": {},
   "outputs": [
    {
     "data": {
      "text/plain": [
       "array([1, 2, 1, ..., 2, 2, 0], dtype=int64)"
      ]
     },
     "execution_count": 15,
     "metadata": {},
     "output_type": "execute_result"
    }
   ],
   "source": [
    "tweets_label =tweets['Sentiment'].values\n",
    "tweets_label"
   ]
  },
  {
   "cell_type": "code",
   "execution_count": 16,
   "metadata": {},
   "outputs": [
    {
     "data": {
      "text/plain": [
       "array([[0., 1., 0.],\n",
       "       [0., 0., 1.],\n",
       "       [0., 1., 0.],\n",
       "       ...,\n",
       "       [0., 0., 1.],\n",
       "       [0., 0., 1.],\n",
       "       [1., 0., 0.]])"
      ]
     },
     "execution_count": 16,
     "metadata": {},
     "output_type": "execute_result"
    }
   ],
   "source": [
    "one_hot_encoder = OneHotEncoder(sparse=False,categories='auto')\n",
    "one_hot_encoder.fit(tweets_label.reshape(-1,1))\n",
    "\n",
    "TweetLabel_encoded = one_hot_encoder.transform(tweets_label.reshape(-1,1))\n",
    "TweetLabel_encoded"
   ]
  },
  {
   "cell_type": "markdown",
   "metadata": {},
   "source": [
    "# Divide the tweet in an array of token (Tokenize)\n",
    "    each tweet is converted into an array of tokens"
   ]
  },
  {
   "cell_type": "code",
   "execution_count": 17,
   "metadata": {},
   "outputs": [
    {
     "data": {
      "text/plain": [
       "[['need', 'make', 'sapcex', 'people', 'dont', 'deserve', 'live'],\n",
       " ['thre',\n",
       "  'mention',\n",
       "  'early',\n",
       "  'infraction',\n",
       "  'views',\n",
       "  'cosmos',\n",
       "  'sapcex',\n",
       "  'array',\n",
       "  'astronomy',\n",
       "  'would',\n",
       "  'compensate'],\n",
       " ['sachine',\n",
       "  'tendulkar',\n",
       "  'handle',\n",
       "  'account',\n",
       "  'kangana',\n",
       "  'team',\n",
       "  'handles',\n",
       "  'thats',\n",
       "  'difference',\n",
       "  'whats',\n",
       "  'funny',\n",
       "  'earned',\n",
       "  'right',\n",
       "  'also',\n",
       "  'jo',\n",
       "  'log',\n",
       "  'khud',\n",
       "  'nahi',\n",
       "  'bolte',\n",
       "  'h',\n",
       "  'wo',\n",
       "  'dusron',\n",
       "  'se',\n",
       "  'bulwate',\n",
       "  'hain',\n",
       "  'wo',\n",
       "  'khud',\n",
       "  'bol',\n",
       "  'rahi',\n",
       "  'h',\n",
       "  'galat',\n",
       "  'kya',\n",
       "  'h'],\n",
       " ['mainly',\n",
       "  'stoltenberg',\n",
       "  'scandanavian',\n",
       "  'cowardly',\n",
       "  'attacks',\n",
       "  'oil',\n",
       "  'pipe',\n",
       "  'lines',\n",
       "  'running',\n",
       "  'like',\n",
       "  'weird',\n",
       "  'inbred',\n",
       "  'fish',\n",
       "  'savages',\n",
       "  'underground',\n",
       "  'bunkers',\n",
       "  'wont',\n",
       "  'dive',\n",
       "  'world',\n",
       "  'like',\n",
       "  'nazis',\n",
       "  'spitefull',\n",
       "  'abusive',\n",
       "  'fucking',\n",
       "  'everything',\n",
       "  'dumb',\n",
       "  'inbreds'],\n",
       " ['mean',\n",
       "  'vaibhavspacex',\n",
       "  'great',\n",
       "  'work',\n",
       "  'unfair',\n",
       "  'compare',\n",
       "  'two',\n",
       "  'offense',\n",
       "  'sapcex',\n",
       "  'chose',\n",
       "  'isro',\n",
       "  'spacex',\n",
       "  'anyday']]"
      ]
     },
     "execution_count": 17,
     "metadata": {},
     "output_type": "execute_result"
    }
   ],
   "source": [
    "Tokenized_Tweet = [word_tokenize(tweet) for tweet in tweets_array]\n",
    "Tokenized_Tweet[0:5]"
   ]
  },
  {
   "cell_type": "markdown",
   "metadata": {},
   "source": [
    "# Convert Tweets into Vectors\n",
    "\n",
    "# what is word embeddins , CBow And Skip-gram ?\n",
    "    \n",
    "    ref : https://towardsdatascience.com/introduction-to-word-embedding-and-word2vec-652d0c2060fa\n",
    "\n",
    "    Word embeddings are vector representations of a particular word.\n",
    "    Word embedding is one of the most popular representation of document vocabulary. \n",
    "    It is capable of capturing context of a word in a document, semantic and syntactic similarity, \n",
    "    relation with other words, etc.\n",
    "    \n",
    "    The objective is to have words with similar context occupy close spatial positions. \n",
    "    Mathematically, the cosine of the angle between such Word vectors should be close to 1, i.e. angle close to 0.\n",
    "    \n",
    "    Word embedding using word2vec can be obtained using two methods (both involving Neural Networks)\n",
    "    Skip Gram and Common Bag Of Words (CBOW)\n",
    "\n",
    "    CBOW Model: This method takes the context of each words/vectors of V dimension as the input and tries to predict a word\n",
    "    corresponding to the context of V dimension.\n",
    "    ex: The sentence = Have a great day!\n",
    "        input/context words : have , a , great\n",
    "        output/target word : day\n",
    "       \n",
    "![](Cbow.png)\n",
    "\n",
    "    Skip- Gram : For each context words/vector of Dimension V we give as an input , we get c(window size) T\n",
    "    arget words of dimension V.\n",
    "     ex: The sentence = Have a great day!\n",
    "         input/context word : great\n",
    "         output/target words : have , a , day\n",
    "         \n",
    "![](skipgram.png)"
   ]
  },
  {
   "cell_type": "markdown",
   "metadata": {},
   "source": [
    "# Build Word2Vec Model\n",
    "\n",
    "    parameter sg = 0 (default) means we are using Cbow\n",
    "              sg = 1 , means we are using Skip grams\n",
    "              size : the size of the vector we want\n",
    "              sentences : the tweets we want to convert into indiviual vectors\n",
    "              window : the number of adjacent neighbours to consider while using the Word2Vec Model.\n",
    "              Min_count : the minimum frequency of a word in the all the sentences for the Model to consider and \n",
    "                          include it in the vocabulary.\n",
    "                          ex : if min_count = 5\n",
    "                               the word 'rain' appears less than 5 times in all tweets , \n",
    "                               'rain' wont be included in the vocabulary"
   ]
  },
  {
   "cell_type": "code",
   "execution_count": 18,
   "metadata": {},
   "outputs": [],
   "source": [
    "Encoding_dim= 250\n",
    "model_cbow = Word2Vec(sentences=Tokenized_Tweet,window=5,min_count=5,size=Encoding_dim)\n",
    "model_sg = Word2Vec(sentences=Tokenized_Tweet,window=5,min_count=5,size=Encoding_dim,sg=1)"
   ]
  },
  {
   "cell_type": "markdown",
   "metadata": {},
   "source": [
    "# Train Word2Vec Models"
   ]
  },
  {
   "cell_type": "code",
   "execution_count": 19,
   "metadata": {},
   "outputs": [
    {
     "data": {
      "text/plain": [
       "(16330781, 19706300)"
      ]
     },
     "execution_count": 19,
     "metadata": {},
     "output_type": "execute_result"
    }
   ],
   "source": [
    "model_cbow.train(Tokenized_Tweet, total_examples= len(Tokenized_Tweet),epochs=50)"
   ]
  },
  {
   "cell_type": "code",
   "execution_count": 20,
   "metadata": {},
   "outputs": [
    {
     "data": {
      "text/plain": [
       "(16330707, 19706300)"
      ]
     },
     "execution_count": 20,
     "metadata": {},
     "output_type": "execute_result"
    }
   ],
   "source": [
    "model_sg.train(Tokenized_Tweet, total_examples= len(Tokenized_Tweet),epochs=50)"
   ]
  },
  {
   "cell_type": "code",
   "execution_count": 21,
   "metadata": {},
   "outputs": [
    {
     "data": {
      "text/plain": [
       "9197"
      ]
     },
     "execution_count": 21,
     "metadata": {},
     "output_type": "execute_result"
    }
   ],
   "source": [
    "words_cbow=list(model_cbow.wv.vocab)\n",
    "len(words_cbow)"
   ]
  },
  {
   "cell_type": "code",
   "execution_count": 22,
   "metadata": {},
   "outputs": [
    {
     "data": {
      "text/plain": [
       "9197"
      ]
     },
     "execution_count": 22,
     "metadata": {},
     "output_type": "execute_result"
    }
   ],
   "source": [
    "words_sg=list(model_sg.wv.vocab)\n",
    "len(words_sg)"
   ]
  },
  {
   "cell_type": "markdown",
   "metadata": {},
   "source": [
    "# Test Models using similarity method"
   ]
  },
  {
   "cell_type": "code",
   "execution_count": 23,
   "metadata": {},
   "outputs": [
    {
     "data": {
      "text/plain": [
       "[('btc', 0.6150566339492798),\n",
       " ('crypto', 0.6010921597480774),\n",
       " ('eth', 0.5249499082565308),\n",
       " ('ethereum', 0.5242225527763367),\n",
       " ('altcoins', 0.5105832815170288),\n",
       " ('hodl', 0.5055743455886841),\n",
       " ('cryptocurrencies', 0.46625199913978577),\n",
       " ('cryptocurrency', 0.4414551854133606),\n",
       " ('xrp', 0.42685064673423767),\n",
       " ('blockchain', 0.4193698465824127),\n",
       " ('defi', 0.41674426198005676),\n",
       " ('stocks', 0.39140114188194275),\n",
       " ('ada', 0.38981810212135315),\n",
       " ('usd', 0.3822994530200958),\n",
       " ('invested', 0.3770158588886261),\n",
       " ('currency', 0.3751904368400574),\n",
       " ('earn', 0.3740183711051941),\n",
       " ('bch', 0.3679470419883728),\n",
       " ('define', 0.35703039169311523),\n",
       " ('option', 0.34550565481185913)]"
      ]
     },
     "execution_count": 23,
     "metadata": {},
     "output_type": "execute_result"
    }
   ],
   "source": [
    "word = 'bitcoin'\n",
    "model_cbow.wv.most_similar(word,topn = 20)"
   ]
  },
  {
   "cell_type": "code",
   "execution_count": 24,
   "metadata": {},
   "outputs": [
    {
     "data": {
      "text/plain": [
       "[('intelligence', 0.8998962044715881),\n",
       " ('artificialintelligence', 0.5137750506401062),\n",
       " ('mimics', 0.49693480134010315),\n",
       " ('ai', 0.46758270263671875),\n",
       " ('dl', 0.437029093503952),\n",
       " ('intoainews', 0.4299084544181824),\n",
       " ('pharma', 0.4249636232852936),\n",
       " ('daysofcode', 0.4207439124584198),\n",
       " ('predicting', 0.413147896528244),\n",
       " ('fintech', 0.401726096868515),\n",
       " ('tensorflow', 0.39836356043815613),\n",
       " ('segmentation', 0.39710670709609985),\n",
       " ('coding', 0.3928218483924866),\n",
       " ('psychology', 0.39237675070762634),\n",
       " ('renaissance', 0.3855959177017212),\n",
       " ('nationwide', 0.38448524475097656),\n",
       " ('bigdata', 0.38407376408576965),\n",
       " ('blockchain', 0.3839450776576996),\n",
       " ('deeplearning', 0.3815392553806305),\n",
       " ('machinelearning', 0.37518200278282166)]"
      ]
     },
     "execution_count": 24,
     "metadata": {},
     "output_type": "execute_result"
    }
   ],
   "source": [
    "word = 'artificial'\n",
    "model_sg.wv.most_similar(word,topn = 20)"
   ]
  },
  {
   "cell_type": "markdown",
   "metadata": {},
   "source": [
    "# after evaluation of CBoW nd Skip Gram \n",
    "\n",
    "    i decided to continue with CBoW "
   ]
  },
  {
   "cell_type": "markdown",
   "metadata": {},
   "source": [
    "# Preparing Vectors of Tweets for our classifie\n",
    "\n",
    "    Since our data contains tweets and not just words, we need to use the word vectors from word2vec model to create\n",
    "    vector representation for an entire tweet.\n",
    "    so to create a vector representing an entire tweet, we simply take mean of all the word vectors present in the tweet.\n",
    "    The length of the resultant vector will be the same( i.e. Encoding_dim) \n",
    "    The process is repeated for all the tweets in our data in order to obtain their corressponding vectors."
   ]
  },
  {
   "cell_type": "code",
   "execution_count": 25,
   "metadata": {},
   "outputs": [
    {
     "data": {
      "text/plain": [
       "29348"
      ]
     },
     "execution_count": 25,
     "metadata": {},
     "output_type": "execute_result"
    }
   ],
   "source": [
    "len(Tokenized_Tweet) # no of tokenized tweets"
   ]
  },
  {
   "cell_type": "code",
   "execution_count": 26,
   "metadata": {},
   "outputs": [
    {
     "name": "stdout",
     "output_type": "stream",
     "text": [
      "['need', 'make', 'sapcex', 'people', 'dont', 'deserve', 'live']\n",
      "['thre', 'mention', 'early', 'infraction', 'views', 'cosmos', 'sapcex', 'array', 'astronomy', 'would', 'compensate']\n"
     ]
    }
   ],
   "source": [
    "print(Tokenized_Tweet[0]) # view the tweet token of the tweet at index 0\n",
    "print(Tokenized_Tweet[1]) # view the tweet token of the tweet at index 1"
   ]
  },
  {
   "cell_type": "code",
   "execution_count": 27,
   "metadata": {},
   "outputs": [
    {
     "data": {
      "text/plain": [
       "array([ 1.0798498 , -1.7057436 ,  0.89928627, -1.3553702 , -0.46884117,\n",
       "        0.01209344, -1.3044342 ,  0.83816814, -0.75915295, -0.9986764 ,\n",
       "        0.6852859 ,  0.23046848, -0.03868016, -0.6272245 , -0.06491423,\n",
       "       -0.50431836, -0.9103309 ,  0.67261225,  0.08951392,  1.0735915 ,\n",
       "        0.7370806 , -0.8320121 , -1.4697175 ,  0.2744296 ,  0.13907978,\n",
       "        0.15305959, -0.6979964 , -1.7326281 , -0.13844812, -0.95719975,\n",
       "        1.3783005 , -0.6221929 ,  0.20053077, -1.477203  , -1.0058147 ,\n",
       "       -0.01754995, -0.85515267,  0.8265999 ,  0.72314817,  1.4588473 ,\n",
       "        0.3969219 ,  0.04417178,  0.06816953, -1.922965  , -0.42649966,\n",
       "       -0.3935606 ,  0.07368789, -0.0273664 ,  0.3413115 ,  0.16461815,\n",
       "        0.6612189 ,  1.0865195 ,  0.6225645 , -0.24476364,  0.02415653,\n",
       "        0.57018703,  0.31919914, -1.0398405 , -0.81495047,  1.5860854 ,\n",
       "       -0.60121334, -1.2395784 , -0.9642244 , -0.00444232,  0.3996515 ,\n",
       "        0.5258818 , -0.55650884, -0.58711505, -0.48445836, -0.07551672,\n",
       "        1.1224    ,  1.593191  ,  0.457026  ,  1.458215  , -0.77793974,\n",
       "       -0.56970125,  1.2940428 , -0.19227943,  0.03892811, -1.0749633 ,\n",
       "        1.2641261 ,  0.32932022,  0.22825143,  0.6108607 , -1.0110493 ,\n",
       "        0.42123562, -0.10783745,  0.37330753,  0.47114167,  0.82399845,\n",
       "       -0.40925413, -0.01646515,  1.5456222 ,  1.6373911 ,  0.3235876 ,\n",
       "        1.1517001 ,  0.3442858 , -2.0605814 ,  0.0256604 , -0.42376333,\n",
       "       -1.884748  ,  0.32204086,  0.53499526,  0.34662637, -0.9800855 ,\n",
       "        0.22460476,  1.3537571 , -0.08063351,  0.6461203 ,  1.3173157 ,\n",
       "        1.8724301 , -0.50512576,  0.6910975 ,  0.7080058 ,  1.1191816 ,\n",
       "        1.1318992 ,  0.7319012 ,  0.01873183,  0.00893094, -0.3656885 ,\n",
       "       -0.1791322 , -0.371321  , -0.05616376,  0.10707653, -0.01714283,\n",
       "       -0.5243136 , -0.09489466, -0.7529023 , -0.23652731, -0.5056655 ,\n",
       "       -0.134     , -0.04787339, -0.72842246, -0.33685413, -0.48916247,\n",
       "       -0.45969242, -0.16941312,  0.10087209,  3.0149288 ,  0.812722  ,\n",
       "       -0.61486775,  0.6297148 ,  0.24785388,  0.20977359, -0.62168753,\n",
       "       -2.1349666 , -0.9519718 ,  1.0020097 ,  0.07176878, -0.24996392,\n",
       "       -1.2400144 ,  0.05371946,  0.7234727 ,  1.3967093 ,  0.4065428 ,\n",
       "       -0.49204138,  2.8742502 , -1.6001047 , -0.52999634, -0.6454624 ,\n",
       "       -1.61226   , -0.9460793 , -0.62862515,  1.048757  , -0.37588626,\n",
       "       -0.85575527, -0.02809709,  0.68198675, -0.2769329 , -1.2400801 ,\n",
       "        0.33254263, -0.37626424,  0.3417907 , -1.2309555 , -0.08506595,\n",
       "        1.9583211 ,  1.0949943 ,  0.524899  ,  0.19581851, -0.8156788 ,\n",
       "       -0.25417346,  0.5585275 , -1.2951072 , -1.0910189 , -1.3502512 ,\n",
       "        1.4708177 ,  0.78353894,  0.91956896, -0.70775485,  0.98369926,\n",
       "        1.7264986 ,  1.0995308 , -0.24462551,  1.3818642 ,  0.2568359 ,\n",
       "       -0.65738475,  0.08220277,  0.44206014,  0.67985123,  0.8218643 ,\n",
       "        0.1090284 ,  0.38631427, -0.20086794,  1.2589284 ,  0.6274587 ,\n",
       "       -0.17443807, -1.9407212 , -1.0980554 ,  0.10128928, -1.0590299 ,\n",
       "        2.3492773 , -0.01265833, -0.6211653 , -1.3502245 ,  0.22268726,\n",
       "       -0.02029332, -0.43402752, -0.9411757 , -0.4227787 , -2.0716655 ,\n",
       "       -1.1372975 ,  0.86067855,  1.885635  ,  0.02452708,  1.8336616 ,\n",
       "       -2.0335398 , -0.09547967, -0.11889914,  0.18590145,  0.37618485,\n",
       "        0.42416194,  0.2683315 ,  0.88040537,  1.6189659 , -0.87173647,\n",
       "        0.1740572 , -0.32391343, -1.0104386 ,  0.6680316 ,  1.5289785 ,\n",
       "       -0.04132412, -0.6454513 ,  0.5114338 , -1.1568853 ,  0.15812847,\n",
       "       -0.20792411,  0.4546175 , -1.0302382 ,  0.03954151,  0.71531636],\n",
       "      dtype=float32)"
      ]
     },
     "execution_count": 27,
     "metadata": {},
     "output_type": "execute_result"
    }
   ],
   "source": [
    "model_cbow.wv['sad']  # vector representation of a token or word in a tweet"
   ]
  },
  {
   "cell_type": "code",
   "execution_count": 28,
   "metadata": {},
   "outputs": [
    {
     "data": {
      "text/plain": [
       "250"
      ]
     },
     "execution_count": 28,
     "metadata": {},
     "output_type": "execute_result"
    }
   ],
   "source": [
    "len(model_cbow.wv['king']) # length of word/ token in tweet"
   ]
  },
  {
   "cell_type": "markdown",
   "metadata": {},
   "source": [
    "# Function to convert a tweet(broken into tokens) \n",
    "\n",
    "    size of each tweet_vector = encoding_dim "
   ]
  },
  {
   "cell_type": "code",
   "execution_count": 29,
   "metadata": {},
   "outputs": [],
   "source": [
    "def Tweet_vector(Tweet_tokenized):\n",
    "    vector = np.zeros(Encoding_dim).reshape((1,Encoding_dim)) # 1 row ; encoding_dim columns\n",
    "    count = 0\n",
    "    for token in Tweet_tokenized:\n",
    "        try:\n",
    "            vector += model_cbow.wv[token].reshape((1,Encoding_dim))  # 1 row ; encoding_dim columns\n",
    "            count += 1\n",
    "        except KeyError:  # handling the case where the token is not in vocabulary\n",
    "            continue      # simply ignore such case\n",
    "            \n",
    "    if count != 0:\n",
    "        vector /= count\n",
    "        \n",
    "    return vector"
   ]
  },
  {
   "cell_type": "markdown",
   "metadata": {},
   "source": [
    "# convert each tweet into an individual vector of size = Encoding_Dimension\n",
    "\n",
    "    so after this we should have a dataset with:\n",
    "    Number of rows = number of tweets\n",
    "    Number of columns = Encoding_Dim (size of each vector representation an individual tweet)"
   ]
  },
  {
   "cell_type": "code",
   "execution_count": 30,
   "metadata": {},
   "outputs": [],
   "source": [
    "Tweetvec_array = np.zeros((len(Tokenized_Tweet), Encoding_dim)) #numpy array of all zeros; contains cols = encoding_dim and rows= no of tweets\n",
    "\n",
    "#populating the array with corressponding vector representation of tweets\n",
    "for i in range(len(Tokenized_Tweet)):\n",
    "    Tweetvec_array[i,:] = Tweet_vector(Tokenized_Tweet[i])  #[i,:] ith row ; ':' means all columns"
   ]
  },
  {
   "cell_type": "code",
   "execution_count": 31,
   "metadata": {},
   "outputs": [
    {
     "data": {
      "text/plain": [
       "(29348, 250)"
      ]
     },
     "execution_count": 31,
     "metadata": {},
     "output_type": "execute_result"
    }
   ],
   "source": [
    "Tweetvector = pd.DataFrame(Tweetvec_array)\n",
    "Tweetvector.shape"
   ]
  },
  {
   "cell_type": "code",
   "execution_count": 32,
   "metadata": {},
   "outputs": [
    {
     "data": {
      "text/plain": [
       "0     -0.030176\n",
       "1     -1.309999\n",
       "2      0.249434\n",
       "3     -0.424047\n",
       "4     -0.778340\n",
       "5      1.024867\n",
       "6      0.038334\n",
       "7     -0.543993\n",
       "8      0.725501\n",
       "9      0.831867\n",
       "10     0.232699\n",
       "11    -0.563547\n",
       "12    -0.252013\n",
       "13    -0.065877\n",
       "14    -0.363769\n",
       "15     0.450227\n",
       "16    -0.352713\n",
       "17    -0.651416\n",
       "18     0.117850\n",
       "19     0.591296\n",
       "20     0.365616\n",
       "21    -0.125667\n",
       "22     0.885298\n",
       "23     0.055914\n",
       "24    -0.122813\n",
       "25     0.467638\n",
       "26     0.236150\n",
       "27    -0.523340\n",
       "28     0.754604\n",
       "29    -0.351651\n",
       "         ...   \n",
       "220   -0.595305\n",
       "221   -0.302643\n",
       "222    0.009379\n",
       "223   -0.656174\n",
       "224    1.615270\n",
       "225   -0.532795\n",
       "226   -0.267202\n",
       "227    0.094141\n",
       "228    1.255234\n",
       "229   -0.419136\n",
       "230    0.186096\n",
       "231   -0.344814\n",
       "232    0.103691\n",
       "233    0.039026\n",
       "234    0.064576\n",
       "235    0.185723\n",
       "236   -0.889720\n",
       "237    0.258974\n",
       "238   -0.122378\n",
       "239    0.156468\n",
       "240   -0.680591\n",
       "241   -0.350275\n",
       "242    0.425246\n",
       "243    0.172154\n",
       "244   -0.934698\n",
       "245   -0.346600\n",
       "246    0.332818\n",
       "247   -0.154491\n",
       "248    0.499176\n",
       "249   -0.271692\n",
       "Name: 0, Length: 250, dtype: float64"
      ]
     },
     "execution_count": 32,
     "metadata": {},
     "output_type": "execute_result"
    }
   ],
   "source": [
    "Tweetvector.loc[0] #print content of entire row with index 0"
   ]
  },
  {
   "cell_type": "code",
   "execution_count": 33,
   "metadata": {},
   "outputs": [
    {
     "data": {
      "text/plain": [
       "(29348, 3)"
      ]
     },
     "execution_count": 33,
     "metadata": {},
     "output_type": "execute_result"
    }
   ],
   "source": [
    "TweetLabel_encoded.shape  # lables"
   ]
  },
  {
   "cell_type": "code",
   "execution_count": 34,
   "metadata": {},
   "outputs": [
    {
     "data": {
      "text/plain": [
       "(29348, 250)"
      ]
     },
     "execution_count": 34,
     "metadata": {},
     "output_type": "execute_result"
    }
   ],
   "source": [
    "Tweetvector.shape # vector representation of tweets"
   ]
  },
  {
   "cell_type": "markdown",
   "metadata": {},
   "source": [
    "# Finally the Data is ready to be used to train a neural network classifier\n"
   ]
  },
  {
   "cell_type": "markdown",
   "metadata": {},
   "source": [
    "# Split data into training and test sets :"
   ]
  },
  {
   "cell_type": "code",
   "execution_count": 35,
   "metadata": {},
   "outputs": [],
   "source": [
    "Tweet_train, Tweet_test, sentiment_train, sentiment_test = train_test_split(Tweetvector, TweetLabel_encoded, random_state=101, test_size=0.20)"
   ]
  },
  {
   "cell_type": "code",
   "execution_count": 36,
   "metadata": {},
   "outputs": [
    {
     "name": "stdout",
     "output_type": "stream",
     "text": [
      "(23478, 250)\n",
      "(5870, 250)\n",
      "(23478, 3)\n",
      "(5870, 3)\n"
     ]
    }
   ],
   "source": [
    "print(Tweet_train.shape)\n",
    "print(Tweet_test.shape)\n",
    "print(sentiment_train.shape)\n",
    "print(sentiment_test.shape)"
   ]
  },
  {
   "cell_type": "markdown",
   "metadata": {},
   "source": [
    "# Setting Random seed for numpy and tensorflow so that the results are reproducible"
   ]
  },
  {
   "cell_type": "code",
   "execution_count": 37,
   "metadata": {},
   "outputs": [],
   "source": [
    "# Set a random seed for reproduceabilty\n",
    "np.random.seed(42)\n",
    "\n",
    "# The below is necessary for starting core Python generated random numbers in a well-defined state.\n",
    "rn.seed(12345)\n",
    "\n",
    "# Force TensorFlow to use single thread.\n",
    "# Multiple threads are a potential source of non-reproducible results.\n",
    "session_conf = tf.ConfigProto( intra_op_parallelism_threads=1, inter_op_parallelism_threads=1)\n",
    "\n",
    "# The below tf.set_random_seed() will make random number generation in the TensorFlow backend have a well-defined initial state.\n",
    "tf.set_random_seed(1234)\n",
    "\n",
    "sess = tf.Session(graph=tf.get_default_graph(), config=session_conf)\n",
    "K.set_session(sess)"
   ]
  },
  {
   "cell_type": "markdown",
   "metadata": {},
   "source": [
    "# Building the Neural Network Classifier using Keras And Tensorflow\n",
    "\n",
    "    Parameters of the model:\n",
    "        "
   ]
  },
  {
   "cell_type": "code",
   "execution_count": 38,
   "metadata": {},
   "outputs": [
    {
     "name": "stdout",
     "output_type": "stream",
     "text": [
      "WARNING:tensorflow:From F:\\python\\lib\\site-packages\\tensorflow\\python\\framework\\op_def_library.py:263: colocate_with (from tensorflow.python.framework.ops) is deprecated and will be removed in a future version.\n",
      "Instructions for updating:\n",
      "Colocations handled automatically by placer.\n",
      "WARNING:tensorflow:From F:\\python\\lib\\site-packages\\keras\\backend\\tensorflow_backend.py:3445: calling dropout (from tensorflow.python.ops.nn_ops) with keep_prob is deprecated and will be removed in a future version.\n",
      "Instructions for updating:\n",
      "Please use `rate` instead of `keep_prob`. Rate should be set to `rate = 1 - keep_prob`.\n"
     ]
    }
   ],
   "source": [
    "classifier = Sequential()\n",
    "classifier.add(Dense(125, input_dim=Encoding_dim, activation='relu',name='hidden1'))\n",
    "classifier.add(Dropout(0.40))\n",
    "classifier.add(Dense(62,activation='relu',name='hidden2'))\n",
    "classifier.add(Dropout(0.30))\n",
    "classifier.add(Dense(30,activation='relu',name='hidden3'))\n",
    "classifier.add(Dropout(0.25))\n",
    "classifier.add(Dense(15,activation='relu',name='hidden4'))\n",
    "classifier.add(Dropout(0.25))\n",
    "classifier.add(Dense(3,activation='softmax',name='output'))\n",
    "classifier.compile(loss='binary_crossentropy', optimizer='adamax',metrics=['categorical_accuracy'])"
   ]
  },
  {
   "cell_type": "code",
   "execution_count": 39,
   "metadata": {},
   "outputs": [
    {
     "name": "stdout",
     "output_type": "stream",
     "text": [
      "_________________________________________________________________\n",
      "Layer (type)                 Output Shape              Param #   \n",
      "=================================================================\n",
      "hidden1 (Dense)              (None, 125)               31375     \n",
      "_________________________________________________________________\n",
      "dropout_1 (Dropout)          (None, 125)               0         \n",
      "_________________________________________________________________\n",
      "hidden2 (Dense)              (None, 62)                7812      \n",
      "_________________________________________________________________\n",
      "dropout_2 (Dropout)          (None, 62)                0         \n",
      "_________________________________________________________________\n",
      "hidden3 (Dense)              (None, 30)                1890      \n",
      "_________________________________________________________________\n",
      "dropout_3 (Dropout)          (None, 30)                0         \n",
      "_________________________________________________________________\n",
      "hidden4 (Dense)              (None, 15)                465       \n",
      "_________________________________________________________________\n",
      "dropout_4 (Dropout)          (None, 15)                0         \n",
      "_________________________________________________________________\n",
      "output (Dense)               (None, 3)                 48        \n",
      "=================================================================\n",
      "Total params: 41,590\n",
      "Trainable params: 41,590\n",
      "Non-trainable params: 0\n",
      "_________________________________________________________________\n"
     ]
    }
   ],
   "source": [
    "classifier.summary()"
   ]
  },
  {
   "cell_type": "code",
   "execution_count": 40,
   "metadata": {},
   "outputs": [
    {
     "name": "stdout",
     "output_type": "stream",
     "text": [
      "WARNING:tensorflow:From F:\\python\\lib\\site-packages\\tensorflow\\python\\ops\\math_ops.py:3066: to_int32 (from tensorflow.python.ops.math_ops) is deprecated and will be removed in a future version.\n",
      "Instructions for updating:\n",
      "Use tf.cast instead.\n",
      "Train on 23478 samples, validate on 5870 samples\n",
      "Epoch 1/50\n",
      "23478/23478 [==============================] - 7s 289us/step - loss: 0.5828 - categorical_accuracy: 0.5047 - val_loss: 0.4835 - val_categorical_accuracy: 0.6521\n",
      "Epoch 2/50\n",
      "23478/23478 [==============================] - 4s 166us/step - loss: 0.5092 - categorical_accuracy: 0.6196 - val_loss: 0.4489 - val_categorical_accuracy: 0.6840\n",
      "Epoch 3/50\n",
      "23478/23478 [==============================] - 3s 147us/step - loss: 0.4762 - categorical_accuracy: 0.6597 - val_loss: 0.4323 - val_categorical_accuracy: 0.6995\n",
      "Epoch 4/50\n",
      "23478/23478 [==============================] - 3s 147us/step - loss: 0.4564 - categorical_accuracy: 0.6757 - val_loss: 0.4193 - val_categorical_accuracy: 0.7066\n",
      "Epoch 5/50\n",
      "23478/23478 [==============================] - 4s 150us/step - loss: 0.4418 - categorical_accuracy: 0.6951 - val_loss: 0.4103 - val_categorical_accuracy: 0.7175\n",
      "Epoch 6/50\n",
      "23478/23478 [==============================] - 4s 151us/step - loss: 0.4284 - categorical_accuracy: 0.7094 - val_loss: 0.4048 - val_categorical_accuracy: 0.7184\n",
      "Epoch 7/50\n",
      "23478/23478 [==============================] - 4s 160us/step - loss: 0.4148 - categorical_accuracy: 0.7225 - val_loss: 0.4047 - val_categorical_accuracy: 0.7218\n",
      "Epoch 8/50\n",
      "23478/23478 [==============================] - 4s 154us/step - loss: 0.4069 - categorical_accuracy: 0.7300 - val_loss: 0.3967 - val_categorical_accuracy: 0.7298\n",
      "Epoch 9/50\n",
      "23478/23478 [==============================] - 4s 155us/step - loss: 0.3956 - categorical_accuracy: 0.7406 - val_loss: 0.3912 - val_categorical_accuracy: 0.7336\n",
      "Epoch 10/50\n",
      "23478/23478 [==============================] - 4s 155us/step - loss: 0.3922 - categorical_accuracy: 0.7434 - val_loss: 0.3911 - val_categorical_accuracy: 0.7307\n",
      "Epoch 11/50\n",
      "23478/23478 [==============================] - 4s 156us/step - loss: 0.3822 - categorical_accuracy: 0.7532 - val_loss: 0.3897 - val_categorical_accuracy: 0.7341\n",
      "Epoch 12/50\n",
      "23478/23478 [==============================] - 4s 154us/step - loss: 0.3735 - categorical_accuracy: 0.7564 - val_loss: 0.3892 - val_categorical_accuracy: 0.7373\n",
      "Epoch 13/50\n",
      "23478/23478 [==============================] - 4s 155us/step - loss: 0.3685 - categorical_accuracy: 0.7642 - val_loss: 0.3884 - val_categorical_accuracy: 0.7361\n",
      "Epoch 14/50\n",
      "23478/23478 [==============================] - 4s 157us/step - loss: 0.3646 - categorical_accuracy: 0.7686 - val_loss: 0.3846 - val_categorical_accuracy: 0.7387\n",
      "Epoch 15/50\n",
      "23478/23478 [==============================] - 4s 151us/step - loss: 0.3557 - categorical_accuracy: 0.7760 - val_loss: 0.3833 - val_categorical_accuracy: 0.7395\n",
      "Epoch 16/50\n",
      "23478/23478 [==============================] - 4s 157us/step - loss: 0.3541 - categorical_accuracy: 0.7776 - val_loss: 0.3852 - val_categorical_accuracy: 0.7376\n",
      "Epoch 17/50\n",
      "23478/23478 [==============================] - 4s 155us/step - loss: 0.3430 - categorical_accuracy: 0.7834 - val_loss: 0.3849 - val_categorical_accuracy: 0.7371\n",
      "Epoch 18/50\n",
      "23478/23478 [==============================] - 4s 155us/step - loss: 0.3430 - categorical_accuracy: 0.7864 - val_loss: 0.3850 - val_categorical_accuracy: 0.7376\n",
      "Epoch 19/50\n",
      "23478/23478 [==============================] - 4s 155us/step - loss: 0.3380 - categorical_accuracy: 0.7862 - val_loss: 0.3842 - val_categorical_accuracy: 0.7400\n",
      "Epoch 20/50\n",
      "23478/23478 [==============================] - 4s 153us/step - loss: 0.3359 - categorical_accuracy: 0.7892 - val_loss: 0.3841 - val_categorical_accuracy: 0.7407\n",
      "Epoch 21/50\n",
      "23478/23478 [==============================] - 4s 155us/step - loss: 0.3306 - categorical_accuracy: 0.7956 - val_loss: 0.3860 - val_categorical_accuracy: 0.7416\n",
      "Epoch 22/50\n",
      "23478/23478 [==============================] - 4s 155us/step - loss: 0.3271 - categorical_accuracy: 0.7968 - val_loss: 0.3870 - val_categorical_accuracy: 0.7414\n",
      "Epoch 23/50\n",
      "23478/23478 [==============================] - 4s 155us/step - loss: 0.3254 - categorical_accuracy: 0.8015 - val_loss: 0.3838 - val_categorical_accuracy: 0.7399\n",
      "Epoch 24/50\n",
      "23478/23478 [==============================] - 4s 154us/step - loss: 0.3196 - categorical_accuracy: 0.8037 - val_loss: 0.3857 - val_categorical_accuracy: 0.7421\n",
      "Epoch 25/50\n",
      "23478/23478 [==============================] - 4s 156us/step - loss: 0.3161 - categorical_accuracy: 0.8054 - val_loss: 0.3880 - val_categorical_accuracy: 0.7394\n",
      "Epoch 26/50\n",
      "23478/23478 [==============================] - 4s 156us/step - loss: 0.3139 - categorical_accuracy: 0.8056 - val_loss: 0.3892 - val_categorical_accuracy: 0.7380\n",
      "Epoch 27/50\n",
      "23478/23478 [==============================] - 4s 154us/step - loss: 0.3102 - categorical_accuracy: 0.8099 - val_loss: 0.3905 - val_categorical_accuracy: 0.7419\n",
      "Epoch 28/50\n",
      "23478/23478 [==============================] - 4s 155us/step - loss: 0.3040 - categorical_accuracy: 0.8139 - val_loss: 0.3933 - val_categorical_accuracy: 0.7402\n",
      "Epoch 29/50\n",
      "23478/23478 [==============================] - 4s 154us/step - loss: 0.3037 - categorical_accuracy: 0.8168 - val_loss: 0.3862 - val_categorical_accuracy: 0.7443\n",
      "Epoch 30/50\n",
      "23478/23478 [==============================] - 4s 154us/step - loss: 0.3034 - categorical_accuracy: 0.8162 - val_loss: 0.3932 - val_categorical_accuracy: 0.7424\n",
      "Epoch 31/50\n",
      "23478/23478 [==============================] - 4s 159us/step - loss: 0.3014 - categorical_accuracy: 0.8170 - val_loss: 0.3923 - val_categorical_accuracy: 0.7470\n",
      "Epoch 32/50\n",
      "23478/23478 [==============================] - 4s 155us/step - loss: 0.2966 - categorical_accuracy: 0.8193 - val_loss: 0.3917 - val_categorical_accuracy: 0.7438\n",
      "Epoch 33/50\n",
      "23478/23478 [==============================] - 4s 155us/step - loss: 0.2903 - categorical_accuracy: 0.8226 - val_loss: 0.3964 - val_categorical_accuracy: 0.7359\n",
      "Epoch 34/50\n",
      "23478/23478 [==============================] - 4s 158us/step - loss: 0.2880 - categorical_accuracy: 0.8275 - val_loss: 0.3953 - val_categorical_accuracy: 0.7448\n",
      "Epoch 35/50\n",
      "23478/23478 [==============================] - 4s 156us/step - loss: 0.2890 - categorical_accuracy: 0.8292 - val_loss: 0.3932 - val_categorical_accuracy: 0.7433\n",
      "Epoch 36/50\n",
      "23478/23478 [==============================] - 4s 157us/step - loss: 0.2894 - categorical_accuracy: 0.8270 - val_loss: 0.3972 - val_categorical_accuracy: 0.7465\n",
      "Epoch 37/50\n",
      "23478/23478 [==============================] - 4s 156us/step - loss: 0.2819 - categorical_accuracy: 0.8311 - val_loss: 0.4046 - val_categorical_accuracy: 0.7472\n",
      "Epoch 38/50\n",
      "23478/23478 [==============================] - 4s 156us/step - loss: 0.2818 - categorical_accuracy: 0.8332 - val_loss: 0.4084 - val_categorical_accuracy: 0.7474\n",
      "Epoch 39/50\n",
      "23478/23478 [==============================] - 4s 158us/step - loss: 0.2771 - categorical_accuracy: 0.8349 - val_loss: 0.4041 - val_categorical_accuracy: 0.7419\n",
      "Epoch 40/50\n",
      "23478/23478 [==============================] - 4s 159us/step - loss: 0.2775 - categorical_accuracy: 0.8343 - val_loss: 0.3979 - val_categorical_accuracy: 0.7470\n",
      "Epoch 41/50\n",
      "23478/23478 [==============================] - 4s 158us/step - loss: 0.2731 - categorical_accuracy: 0.8365 - val_loss: 0.4028 - val_categorical_accuracy: 0.7440\n",
      "Epoch 42/50\n",
      "23478/23478 [==============================] - 4s 157us/step - loss: 0.2743 - categorical_accuracy: 0.8374 - val_loss: 0.4054 - val_categorical_accuracy: 0.7448\n",
      "Epoch 43/50\n",
      "23478/23478 [==============================] - 4s 156us/step - loss: 0.2688 - categorical_accuracy: 0.8413 - val_loss: 0.4155 - val_categorical_accuracy: 0.7407\n",
      "Epoch 44/50\n",
      "23478/23478 [==============================] - 4s 163us/step - loss: 0.2652 - categorical_accuracy: 0.8413 - val_loss: 0.4078 - val_categorical_accuracy: 0.7441\n",
      "Epoch 45/50\n",
      "23478/23478 [==============================] - 4s 156us/step - loss: 0.2672 - categorical_accuracy: 0.8426 - val_loss: 0.4061 - val_categorical_accuracy: 0.7428\n",
      "Epoch 46/50\n",
      "23478/23478 [==============================] - 4s 155us/step - loss: 0.2645 - categorical_accuracy: 0.8433 - val_loss: 0.4066 - val_categorical_accuracy: 0.7468\n"
     ]
    },
    {
     "name": "stdout",
     "output_type": "stream",
     "text": [
      "Epoch 47/50\n",
      "23478/23478 [==============================] - 3s 145us/step - loss: 0.2613 - categorical_accuracy: 0.8476 - val_loss: 0.4111 - val_categorical_accuracy: 0.7446\n",
      "Epoch 48/50\n",
      "23478/23478 [==============================] - 3s 147us/step - loss: 0.2618 - categorical_accuracy: 0.8484 - val_loss: 0.4116 - val_categorical_accuracy: 0.7438\n",
      "Epoch 49/50\n",
      "23478/23478 [==============================] - 3s 145us/step - loss: 0.2610 - categorical_accuracy: 0.8455 - val_loss: 0.4137 - val_categorical_accuracy: 0.7463\n",
      "Epoch 50/50\n",
      "23478/23478 [==============================] - 4s 158us/step - loss: 0.2527 - categorical_accuracy: 0.8525 - val_loss: 0.4200 - val_categorical_accuracy: 0.7448\n"
     ]
    }
   ],
   "source": [
    "trained_model=classifier.fit(Tweet_train,sentiment_train,epochs=50,batch_size=25,validation_data=(Tweet_test,sentiment_test))"
   ]
  },
  {
   "cell_type": "markdown",
   "metadata": {},
   "source": [
    "# Visualize Traing & Test Loss"
   ]
  },
  {
   "cell_type": "code",
   "execution_count": 41,
   "metadata": {},
   "outputs": [
    {
     "data": {
      "image/png": "[encoded data removed]",
      "text/plain": [
       "<Figure size 1000x400 with 1 Axes>"
      ]
     },
     "metadata": {},
     "output_type": "display_data"
    }
   ],
   "source": [
    "my_dpi = 100 # dots per inch .. (resolution)\n",
    "plt.figure(figsize=(1000/my_dpi, 400/my_dpi), dpi = my_dpi) # to enlarge the plot (can be omitted)\n",
    "\n",
    "loss = trained_model.history['loss']\n",
    "val_loss = trained_model.history['val_loss']\n",
    "epochs = range(1, 51)\n",
    "plt.plot(epochs, loss, 'r', label='Training_loss')\n",
    "plt.plot(epochs, val_loss, 'b', label='Test_loss')\n",
    "plt.xticks(np.arange(0,51,5))\n",
    "plt.title('Training and Test loss')\n",
    "plt.xlabel('Epochs')\n",
    "plt.ylabel('Loss')\n",
    "plt.legend()\n",
    "plt.grid()"
   ]
  },
  {
   "cell_type": "markdown",
   "metadata": {},
   "source": [
    "# Visualize Training & test Set Accuracy"
   ]
  },
  {
   "cell_type": "code",
   "execution_count": 42,
   "metadata": {},
   "outputs": [
    {
     "data": {
      "image/png": "[encoded data removed]",
      "text/plain": [
       "<Figure size 1000x400 with 1 Axes>"
      ]
     },
     "metadata": {},
     "output_type": "display_data"
    }
   ],
   "source": [
    "my_dpi = 100 # dots per inch .. (resolution)\n",
    "plt.figure(figsize=(1000/my_dpi, 400/my_dpi), dpi = my_dpi) # to enlarge the plot (can be omitted)\n",
    "\n",
    "plt.clf()\n",
    "acc = trained_model.history['categorical_accuracy']\n",
    "val_acc = trained_model.history['val_categorical_accuracy']\n",
    "plt.plot(epochs, acc, 'r', label='Training_accuracy')\n",
    "plt.plot(epochs, val_acc, 'b', label='Test_Set_accuracy')\n",
    "plt.title('Training and Test Accuracy')\n",
    "plt.xticks(np.arange(0,51,5))\n",
    "plt.xlabel('Epochs')\n",
    "plt.ylabel('Accuracy')\n",
    "plt.legend()\n",
    "plt.grid()"
   ]
  },
  {
   "cell_type": "markdown",
   "metadata": {},
   "source": [
    "# Inference :\n",
    "\n",
    "    Based on the above Graph , the number of epoch selected is = 20"
   ]
  },
  {
   "cell_type": "code",
   "execution_count": 43,
   "metadata": {},
   "outputs": [
    {
     "name": "stdout",
     "output_type": "stream",
     "text": [
      "Epoch 1/20\n",
      "23478/23478 [==============================] - 4s 173us/step - loss: 0.5938 - categorical_accuracy: 0.4741\n",
      "Epoch 2/20\n",
      "23478/23478 [==============================] - 3s 129us/step - loss: 0.5266 - categorical_accuracy: 0.6035\n",
      "Epoch 3/20\n",
      "23478/23478 [==============================] - 4s 169us/step - loss: 0.5016 - categorical_accuracy: 0.6366\n",
      "Epoch 4/20\n",
      "23478/23478 [==============================] - 3s 134us/step - loss: 0.4802 - categorical_accuracy: 0.6597\n",
      "Epoch 5/20\n",
      "23478/23478 [==============================] - 3s 130us/step - loss: 0.4668 - categorical_accuracy: 0.6744\n",
      "Epoch 6/20\n",
      "23478/23478 [==============================] - 3s 129us/step - loss: 0.4528 - categorical_accuracy: 0.6954\n",
      "Epoch 7/20\n",
      "23478/23478 [==============================] - 3s 130us/step - loss: 0.4397 - categorical_accuracy: 0.7024\n",
      "Epoch 8/20\n",
      "23478/23478 [==============================] - 3s 129us/step - loss: 0.4316 - categorical_accuracy: 0.7071\n",
      "Epoch 9/20\n",
      "23478/23478 [==============================] - 3s 131us/step - loss: 0.4243 - categorical_accuracy: 0.7184\n",
      "Epoch 10/20\n",
      "23478/23478 [==============================] - 3s 129us/step - loss: 0.4140 - categorical_accuracy: 0.7279\n",
      "Epoch 11/20\n",
      "23478/23478 [==============================] - 4s 172us/step - loss: 0.4081 - categorical_accuracy: 0.7336\n",
      "Epoch 12/20\n",
      "23478/23478 [==============================] - 3s 128us/step - loss: 0.4006 - categorical_accuracy: 0.7382\n",
      "Epoch 13/20\n",
      "23478/23478 [==============================] - 3s 129us/step - loss: 0.3948 - categorical_accuracy: 0.7444\n",
      "Epoch 14/20\n",
      "23478/23478 [==============================] - 3s 129us/step - loss: 0.3865 - categorical_accuracy: 0.7520\n",
      "Epoch 15/20\n",
      "23478/23478 [==============================] - 3s 128us/step - loss: 0.3840 - categorical_accuracy: 0.7525\n",
      "Epoch 16/20\n",
      "23478/23478 [==============================] - 3s 129us/step - loss: 0.3797 - categorical_accuracy: 0.7574\n",
      "Epoch 17/20\n",
      "23478/23478 [==============================] - 3s 129us/step - loss: 0.3743 - categorical_accuracy: 0.7607\n",
      "Epoch 18/20\n",
      "23478/23478 [==============================] - 3s 128us/step - loss: 0.3704 - categorical_accuracy: 0.7643\n",
      "Epoch 19/20\n",
      "23478/23478 [==============================] - 3s 129us/step - loss: 0.3660 - categorical_accuracy: 0.7703\n",
      "Epoch 20/20\n",
      "23478/23478 [==============================] - 3s 129us/step - loss: 0.3621 - categorical_accuracy: 0.7732\n"
     ]
    }
   ],
   "source": [
    "classifier = Sequential()\n",
    "classifier.add(Dense(100, input_dim=Encoding_dim, activation='relu',name='hidden1'))\n",
    "classifier.add(Dropout(0.40))\n",
    "classifier.add(Dense(50,activation='relu',name='hidden2'))\n",
    "classifier.add(Dropout(0.30))\n",
    "classifier.add(Dense(25,activation='relu',name='hidden3'))\n",
    "classifier.add(Dropout(0.25))\n",
    "classifier.add(Dense(10,activation='relu',name='hidden4'))\n",
    "classifier.add(Dropout(0.25))\n",
    "classifier.add(Dense(3,activation='softmax',name='output'))\n",
    "classifier.compile(loss='binary_crossentropy', optimizer='adamax',metrics=['categorical_accuracy'])\n",
    "trained_model = classifier.fit(Tweet_train,sentiment_train, epochs=20, batch_size=25)"
   ]
  },
  {
   "cell_type": "code",
   "execution_count": 44,
   "metadata": {},
   "outputs": [
    {
     "name": "stdout",
     "output_type": "stream",
     "text": [
      "23478/23478 [==============================] - 1s 37us/step\n",
      "Training set loss 0.2845642550712205\n",
      "Training set accuracy 0.8320981344338708\n"
     ]
    }
   ],
   "source": [
    "score = classifier.evaluate(Tweet_train,sentiment_train)\n",
    "print(\"Training set loss\",score[0])\n",
    "print(\"Training set accuracy\",score[1])"
   ]
  },
  {
   "cell_type": "code",
   "execution_count": 45,
   "metadata": {},
   "outputs": [
    {
     "name": "stdout",
     "output_type": "stream",
     "text": [
      "5870/5870 [==============================] - 0s 35us/step\n",
      "Test set loss 0.38682906261091543\n",
      "Test set accuracy 0.7385008518293729\n"
     ]
    }
   ],
   "source": [
    "score = classifier.evaluate(Tweet_test,sentiment_test)\n",
    "print(\"Test set loss\",score[0])\n",
    "print(\"Test set accuracy\",score[1])"
   ]
  },
  {
   "cell_type": "markdown",
   "metadata": {},
   "source": [
    "# Making Predictions and Evaluating the Classifier "
   ]
  },
  {
   "cell_type": "code",
   "execution_count": 46,
   "metadata": {},
   "outputs": [
    {
     "data": {
      "text/plain": [
       "array([[1., 0., 0.],\n",
       "       [0., 1., 0.],\n",
       "       [1., 0., 0.],\n",
       "       ...,\n",
       "       [0., 0., 1.],\n",
       "       [0., 1., 0.],\n",
       "       [1., 0., 0.]])"
      ]
     },
     "execution_count": 46,
     "metadata": {},
     "output_type": "execute_result"
    }
   ],
   "source": [
    "sentiment_test"
   ]
  },
  {
   "cell_type": "markdown",
   "metadata": {},
   "source": [
    "# Converting the predicted Sentiments in vector from into their String equivalent\n",
    "\n",
    "        The output layer of neural network has 3 perceptrons.\n",
    "        Each representing a sentiment (class label)\n",
    "        The output of the Neural net is treated as a vector of length 3 : [Perceptron_1 , Perceptron_2 , Perceptron_3]\n",
    "        Depending on the activation state of these perceptrons we determine the class labels:\n",
    "        [1,0,0] -> predicted sentiment : negetive\n",
    "        [0,1,0] -> predicted sentiment : positive\n",
    "        [0,0,1] -> predicted sentiment : neutral\n",
    "        \n",
    "        so we need to convert these predicted output vectors into their equivalent string version.\n",
    "        \n",
    "        SO previously ,\n",
    "        First we converted string labels into numeric labels:\n",
    "        negetive = 0 , positive = 1 , neutral = 2 .\n",
    "        Then we used One Hot Encoding to convert these digits into vectors\n",
    "        negetive (0) -> [1,0,0] ; positive (1) -> [0,1,0] ; neutral (2) -> [0,0,1]\n",
    "        \n",
    "        so in order to convert output vectors into their string equivelent:\n",
    "        First reverse one hot encoding to convert vectors into digits\n",
    "        then, convert the digits into their equivalent string format"
   ]
  },
  {
   "cell_type": "markdown",
   "metadata": {},
   "source": [
    "# Convert Sentiment_test vectors into digits\n",
    " \n",
    "     sentiment test are the actual labels which are in vetcor form, so convert them into single digit\n",
    "     (as we need to compare predicted sentiments with actual sentiments)"
   ]
  },
  {
   "cell_type": "code",
   "execution_count": 54,
   "metadata": {},
   "outputs": [
    {
     "data": {
      "text/plain": [
       "array([0, 1, 0, ..., 2, 1, 0], dtype=int64)"
      ]
     },
     "execution_count": 54,
     "metadata": {},
     "output_type": "execute_result"
    }
   ],
   "source": [
    "sentiment_test_decoded = one_hot_encoder.inverse_transform(sentiment_test)\n",
    "sentiment_test_decoded = sentiment_test_decoded.flatten()\n",
    "sentiment_test_decoded"
   ]
  },
  {
   "cell_type": "markdown",
   "metadata": {},
   "source": [
    "# saving the actaul sentiment in digit form into a dataframe\n",
    "     \n",
    "     saving it in dataframe , so that it can be used for a side by side comparison"
   ]
  },
  {
   "cell_type": "code",
   "execution_count": 56,
   "metadata": {},
   "outputs": [],
   "source": [
    "sentimentdf=  pd.DataFrame( sentiment_test_decoded)"
   ]
  },
  {
   "cell_type": "markdown",
   "metadata": {},
   "source": [
    "# Making predictions using the Nueral network classifier\n",
    "\n",
    "    using the neural network classifier model to make predictions on the test set of tweet vectors.\n",
    "    The predicted class label/sentiment are in vector form hence converting them into single numeric value\n",
    "    and comapring them side by side."
   ]
  },
  {
   "cell_type": "code",
   "execution_count": 57,
   "metadata": {},
   "outputs": [
    {
     "data": {
      "text/plain": [
       "array([0, 1, 1, ..., 1, 1, 0], dtype=int64)"
      ]
     },
     "execution_count": 57,
     "metadata": {},
     "output_type": "execute_result"
    }
   ],
   "source": [
    "pred = classifier.predict(Tweet_test)\n",
    "predictions= one_hot_encoder.inverse_transform(pred)\n",
    "predictions= predictions.flatten()\n",
    "predictions"
   ]
  },
  {
   "cell_type": "code",
   "execution_count": 58,
   "metadata": {},
   "outputs": [
    {
     "data": {
      "text/html": [
       "<div>\n",
       "<style scoped>\n",
       "    .dataframe tbody tr th:only-of-type {\n",
       "        vertical-align: middle;\n",
       "    }\n",
       "\n",
       "    .dataframe tbody tr th {\n",
       "        vertical-align: top;\n",
       "    }\n",
       "\n",
       "    .dataframe thead th {\n",
       "        text-align: right;\n",
       "    }\n",
       "</style>\n",
       "<table border=\"1\" class=\"dataframe\">\n",
       "  <thead>\n",
       "    <tr style=\"text-align: right;\">\n",
       "      <th></th>\n",
       "      <th>Actual_sentiments</th>\n",
       "      <th>Predicted_sentiments</th>\n",
       "    </tr>\n",
       "  </thead>\n",
       "  <tbody>\n",
       "    <tr>\n",
       "      <th>0</th>\n",
       "      <td>0</td>\n",
       "      <td>0</td>\n",
       "    </tr>\n",
       "    <tr>\n",
       "      <th>1</th>\n",
       "      <td>1</td>\n",
       "      <td>1</td>\n",
       "    </tr>\n",
       "    <tr>\n",
       "      <th>2</th>\n",
       "      <td>0</td>\n",
       "      <td>1</td>\n",
       "    </tr>\n",
       "    <tr>\n",
       "      <th>3</th>\n",
       "      <td>2</td>\n",
       "      <td>2</td>\n",
       "    </tr>\n",
       "    <tr>\n",
       "      <th>4</th>\n",
       "      <td>1</td>\n",
       "      <td>0</td>\n",
       "    </tr>\n",
       "    <tr>\n",
       "      <th>5</th>\n",
       "      <td>1</td>\n",
       "      <td>1</td>\n",
       "    </tr>\n",
       "    <tr>\n",
       "      <th>6</th>\n",
       "      <td>0</td>\n",
       "      <td>0</td>\n",
       "    </tr>\n",
       "    <tr>\n",
       "      <th>7</th>\n",
       "      <td>2</td>\n",
       "      <td>2</td>\n",
       "    </tr>\n",
       "    <tr>\n",
       "      <th>8</th>\n",
       "      <td>0</td>\n",
       "      <td>1</td>\n",
       "    </tr>\n",
       "    <tr>\n",
       "      <th>9</th>\n",
       "      <td>0</td>\n",
       "      <td>0</td>\n",
       "    </tr>\n",
       "  </tbody>\n",
       "</table>\n",
       "</div>"
      ],
      "text/plain": [
       "   Actual_sentiments  Predicted_sentiments\n",
       "0  0                  0                   \n",
       "1  1                  1                   \n",
       "2  0                  1                   \n",
       "3  2                  2                   \n",
       "4  1                  0                   \n",
       "5  1                  1                   \n",
       "6  0                  0                   \n",
       "7  2                  2                   \n",
       "8  0                  1                   \n",
       "9  0                  0                   "
      ]
     },
     "execution_count": 58,
     "metadata": {},
     "output_type": "execute_result"
    }
   ],
   "source": [
    "Id = sentimentdf.index\n",
    "predicted_sentiments = pd.DataFrame(predictions, Id , columns = ['Predicted_sentiments'])\n",
    "actual_sentiments = pd.DataFrame(sentiment_test_decoded, Id, columns = ['Actual_sentiments'])\n",
    "predictions_comparions=actual_sentiments.merge(predicted_sentiments, how = 'outer', left_index = True, right_index = True)\n",
    "predictions_comparions.head(10)"
   ]
  },
  {
   "cell_type": "markdown",
   "metadata": {},
   "source": [
    "# Converting class labels/sentiments in numeric value into their string equivalent."
   ]
  },
  {
   "cell_type": "code",
   "execution_count": 59,
   "metadata": {},
   "outputs": [],
   "source": [
    "def convert_sent(number):\n",
    "    if number == 2 :\n",
    "        return 'Neutral'\n",
    "    elif number == 1:\n",
    "        return 'positive'\n",
    "    else :\n",
    "        return 'negetive'"
   ]
  },
  {
   "cell_type": "code",
   "execution_count": 60,
   "metadata": {},
   "outputs": [
    {
     "data": {
      "text/html": [
       "<div>\n",
       "<style scoped>\n",
       "    .dataframe tbody tr th:only-of-type {\n",
       "        vertical-align: middle;\n",
       "    }\n",
       "\n",
       "    .dataframe tbody tr th {\n",
       "        vertical-align: top;\n",
       "    }\n",
       "\n",
       "    .dataframe thead th {\n",
       "        text-align: right;\n",
       "    }\n",
       "</style>\n",
       "<table border=\"1\" class=\"dataframe\">\n",
       "  <thead>\n",
       "    <tr style=\"text-align: right;\">\n",
       "      <th></th>\n",
       "      <th>Actual_sentiments</th>\n",
       "      <th>Predicted_sentiments</th>\n",
       "    </tr>\n",
       "  </thead>\n",
       "  <tbody>\n",
       "    <tr>\n",
       "      <th>0</th>\n",
       "      <td>negetive</td>\n",
       "      <td>negetive</td>\n",
       "    </tr>\n",
       "    <tr>\n",
       "      <th>1</th>\n",
       "      <td>positive</td>\n",
       "      <td>positive</td>\n",
       "    </tr>\n",
       "    <tr>\n",
       "      <th>2</th>\n",
       "      <td>negetive</td>\n",
       "      <td>positive</td>\n",
       "    </tr>\n",
       "    <tr>\n",
       "      <th>3</th>\n",
       "      <td>Neutral</td>\n",
       "      <td>Neutral</td>\n",
       "    </tr>\n",
       "    <tr>\n",
       "      <th>4</th>\n",
       "      <td>positive</td>\n",
       "      <td>negetive</td>\n",
       "    </tr>\n",
       "    <tr>\n",
       "      <th>5</th>\n",
       "      <td>positive</td>\n",
       "      <td>positive</td>\n",
       "    </tr>\n",
       "    <tr>\n",
       "      <th>6</th>\n",
       "      <td>negetive</td>\n",
       "      <td>negetive</td>\n",
       "    </tr>\n",
       "    <tr>\n",
       "      <th>7</th>\n",
       "      <td>Neutral</td>\n",
       "      <td>Neutral</td>\n",
       "    </tr>\n",
       "    <tr>\n",
       "      <th>8</th>\n",
       "      <td>negetive</td>\n",
       "      <td>positive</td>\n",
       "    </tr>\n",
       "    <tr>\n",
       "      <th>9</th>\n",
       "      <td>negetive</td>\n",
       "      <td>negetive</td>\n",
       "    </tr>\n",
       "  </tbody>\n",
       "</table>\n",
       "</div>"
      ],
      "text/plain": [
       "  Actual_sentiments Predicted_sentiments\n",
       "0  negetive          negetive           \n",
       "1  positive          positive           \n",
       "2  negetive          positive           \n",
       "3  Neutral           Neutral            \n",
       "4  positive          negetive           \n",
       "5  positive          positive           \n",
       "6  negetive          negetive           \n",
       "7  Neutral           Neutral            \n",
       "8  negetive          positive           \n",
       "9  negetive          negetive           "
      ]
     },
     "execution_count": 60,
     "metadata": {},
     "output_type": "execute_result"
    }
   ],
   "source": [
    "predictions_comparions['Actual_sentiments'] =predictions_comparions['Actual_sentiments'].apply(convert_sent)\n",
    "predictions_comparions['Predicted_sentiments'] =predictions_comparions['Predicted_sentiments'].apply(convert_sent)\n",
    "predictions_comparions.head(10)"
   ]
  },
  {
   "cell_type": "code",
   "execution_count": 61,
   "metadata": {},
   "outputs": [
    {
     "data": {
      "text/html": [
       "<div>\n",
       "<style scoped>\n",
       "    .dataframe tbody tr th:only-of-type {\n",
       "        vertical-align: middle;\n",
       "    }\n",
       "\n",
       "    .dataframe tbody tr th {\n",
       "        vertical-align: top;\n",
       "    }\n",
       "\n",
       "    .dataframe thead th {\n",
       "        text-align: right;\n",
       "    }\n",
       "</style>\n",
       "<table border=\"1\" class=\"dataframe\">\n",
       "  <thead>\n",
       "    <tr style=\"text-align: right;\">\n",
       "      <th></th>\n",
       "      <th>Predicted_sentiments</th>\n",
       "    </tr>\n",
       "    <tr>\n",
       "      <th>Actual_sentiments</th>\n",
       "      <th></th>\n",
       "    </tr>\n",
       "  </thead>\n",
       "  <tbody>\n",
       "    <tr>\n",
       "      <th>Neutral</th>\n",
       "      <td>1850</td>\n",
       "    </tr>\n",
       "    <tr>\n",
       "      <th>negetive</th>\n",
       "      <td>1920</td>\n",
       "    </tr>\n",
       "    <tr>\n",
       "      <th>positive</th>\n",
       "      <td>2100</td>\n",
       "    </tr>\n",
       "  </tbody>\n",
       "</table>\n",
       "</div>"
      ],
      "text/plain": [
       "                   Predicted_sentiments\n",
       "Actual_sentiments                      \n",
       "Neutral            1850                \n",
       "negetive           1920                \n",
       "positive           2100                "
      ]
     },
     "execution_count": 61,
     "metadata": {},
     "output_type": "execute_result"
    }
   ],
   "source": [
    "predictions_comparions.groupby(['Actual_sentiments']).count()"
   ]
  },
  {
   "cell_type": "markdown",
   "metadata": {},
   "source": [
    "# Confusion Matrix And calculating Precision Recall and F1 Score\n",
    "\n",
    "    In the Confusion Matrix : Negetive = 0 ; Positive = 1 ; Neutral = 2 (class Labels)\n",
    "                Row represents actual Sentiments while the columns represents the predicted sentiments\n",
    "                \n",
    "                1st row : 1st column :Actual Sentiment = Negetive ; Predicted Sentiment = Negetive\n",
    "                1st row : 2nd column :Actual Sentiment = Negetive ; Predicted Sentiment = Positive\n",
    "                1st row : 3rd column :Actual Sentiment = Negetive ; Predicted Sentiment = Neutral\n",
    "                \n",
    "                2nd row : 1st column :Actual Sentiment = Positive ; Predicted Sentiment = Negetive\n",
    "                2nd row : 2nd column :Actual Sentiment = Positive ; Predicted Sentiment = Positive\n",
    "                2nd row : 3rd column :Actual Sentiment = Positive ; Predicted Sentiment = Neutral\n",
    "                \n",
    "                3rd row : 1st column :Actual Sentiment = Neutral ; Predicted Sentiment = Negetive\n",
    "                3rd row : 2nd column :Actual Sentiment = Neutral ; Predicted Sentiment = Positive\n",
    "                3rd row : 3rd column :Actual Sentiment = Neutral ; Predicted Sentiment = Neutral"
   ]
  },
  {
   "cell_type": "code",
   "execution_count": 62,
   "metadata": {},
   "outputs": [
    {
     "name": "stdout",
     "output_type": "stream",
     "text": [
      "[[1379  277  264]\n",
      " [ 340 1520  240]\n",
      " [ 247  167 1436]]\n"
     ]
    }
   ],
   "source": [
    "cm  = confusion_matrix(sentiment_test_decoded,predictions )\n",
    "print(cm)"
   ]
  },
  {
   "cell_type": "markdown",
   "metadata": {},
   "source": [
    "# Precision Recall & F1 Score:\n",
    "\n",
    "    Precison = True Postive/(Total predicted Positive) || True Postive/(True Positive + False Positive)\n",
    "               Precision talks about how precise/accurate the model is, i.e. out of total predicted positive,\n",
    "               how many of them are actual positive.\n",
    "               \n",
    "    Recall = True Positive/(Total actual Positive) || True Postive/(True Positive + False Negetive)\n",
    "             Recall calculates how many of the Actual Positives the model captures by labeling it \n",
    "             as Positive (True Positive)\n",
    "             \n",
    "    F1 Score = (2 * Precision * Recall) / (Precision + Recall)"
   ]
  },
  {
   "cell_type": "code",
   "execution_count": 63,
   "metadata": {},
   "outputs": [
    {
     "name": "stdout",
     "output_type": "stream",
     "text": [
      "Precision of the Classifier Model : 0.739\n",
      "Recall of the Classifier Model : 0.739\n",
      "F1 Score of the Classifier Model : 0.739\n"
     ]
    }
   ],
   "source": [
    "precision = precision_score(sentiment_test_decoded, predictions, average='macro')\n",
    "print('Precision of the Classifier Model : %.3f' % precision)\n",
    "recall = recall_score(sentiment_test_decoded, predictions, average='macro')\n",
    "print('Recall of the Classifier Model : %.3f' %recall)\n",
    "f1 = f1_score(sentiment_test_decoded, predictions, average='macro')\n",
    "print('F1 Score of the Classifier Model : %.3f' %f1)"
   ]
  },
  {
   "cell_type": "markdown",
   "metadata": {},
   "source": [
    "# PREDICT SENTIMENT FROM USER TWEET\n",
    "\n",
    "    Test case 1:\n",
    "            \"its a sad night for @RealMadridCF we lost the game 2-1, but we will come back stronger next time #Hala_Madrid\",\n",
    "             \"@SDER You are a bully,you deserverd to be punished\",\n",
    "             \"yes,, @IndianCricket team are the champions of the world 😍 #WINNERS #WORLDCHAPMPS\",\n",
    "             \" THE FOOD WAS ENJOYABLE 😊 😊\",\n",
    "             \"rest in peace !! #RIP 😢 😢\"\n",
    "             \n",
    "     Test Case 2:\n",
    "             \"Donald trump , i have no idea how this man became the president of the country #STUPID #WORST_PRESIDENT\",\n",
    "             \"@iamrohit you were right ...Kolkata is rightfully called the City of Joy..\",\n",
    "             \"Hell yeah,, @Rogerfedrrer win his 20th Grand Slam #legend\",\n",
    "             \"The food could not have been more bad, One of the worst restaurant i have dined at ,\n",
    "             the food actually teatsed like shit\",\n",
    "             \"Machine learning is one of the most intersteing feilds to work on\",\n",
    "             \" The movie was a bit boring and not so intersting for me also it was slow,\n",
    "             overall it was below average !!! #Chappak\"\n",
    "             \n",
    "      Test Case 3: ... save the test case here for future references"
   ]
  },
  {
   "cell_type": "code",
   "execution_count": 64,
   "metadata": {},
   "outputs": [],
   "source": [
    "User_Tweets = [\"Donald trump , i have no idea how this man became the president of the country #STUPID #WORST_PRESIDENT\",\n",
    "             \"@iamrohit you were right ...Kolkata is rightfully called the City of Joy..\",\n",
    "             \"Hell yeah,, @Rogerfedrrer win his 20th Grand Slam #legend\",\n",
    "             \" The food could not have been more bad, One of the worst restaurant i have dined at , the food actually teatsed like shit\",\n",
    "             \"Machine learning is one of the most intersteing feilds to work on\",\n",
    "             \" The movie was a bit boring and not so intersting for me also it was slow , overall it was below average !!! #Chappak\"\n",
    "             ]\n",
    "\n",
    "IP_Tweets =  pd.DataFrame (User_Tweets,columns=['Input_Tweets'])"
   ]
  },
  {
   "cell_type": "code",
   "execution_count": 65,
   "metadata": {},
   "outputs": [
    {
     "name": "stdout",
     "output_type": "stream",
     "text": [
      "<class 'pandas.core.frame.DataFrame'>\n",
      "RangeIndex: 6 entries, 0 to 5\n",
      "Data columns (total 1 columns):\n",
      "Input_Tweets    6 non-null object\n",
      "dtypes: object(1)\n",
      "memory usage: 128.0+ bytes\n"
     ]
    }
   ],
   "source": [
    "IP_Tweets.info()"
   ]
  },
  {
   "cell_type": "code",
   "execution_count": 66,
   "metadata": {},
   "outputs": [
    {
     "data": {
      "text/html": [
       "<div>\n",
       "<style scoped>\n",
       "    .dataframe tbody tr th:only-of-type {\n",
       "        vertical-align: middle;\n",
       "    }\n",
       "\n",
       "    .dataframe tbody tr th {\n",
       "        vertical-align: top;\n",
       "    }\n",
       "\n",
       "    .dataframe thead th {\n",
       "        text-align: right;\n",
       "    }\n",
       "</style>\n",
       "<table border=\"1\" class=\"dataframe\">\n",
       "  <thead>\n",
       "    <tr style=\"text-align: right;\">\n",
       "      <th></th>\n",
       "      <th>Input_Tweets</th>\n",
       "    </tr>\n",
       "  </thead>\n",
       "  <tbody>\n",
       "    <tr>\n",
       "      <th>0</th>\n",
       "      <td>Donald trump , i have no idea how this man became the president of the country #STUPID #WORST_PRESIDENT</td>\n",
       "    </tr>\n",
       "    <tr>\n",
       "      <th>1</th>\n",
       "      <td>@iamrohit you were right ...Kolkata is rightfully called the City of Joy..</td>\n",
       "    </tr>\n",
       "    <tr>\n",
       "      <th>2</th>\n",
       "      <td>Hell yeah,, @Rogerfedrrer win his 20th Grand Slam #legend</td>\n",
       "    </tr>\n",
       "    <tr>\n",
       "      <th>3</th>\n",
       "      <td>The food could not have been more bad, One of the worst restaurant i have dined at , the food actually teatsed like shit</td>\n",
       "    </tr>\n",
       "    <tr>\n",
       "      <th>4</th>\n",
       "      <td>Machine learning is one of the most intersteing feilds to work on</td>\n",
       "    </tr>\n",
       "    <tr>\n",
       "      <th>5</th>\n",
       "      <td>The movie was a bit boring and not so intersting for me also it was slow , overall it was below average !!! #Chappak</td>\n",
       "    </tr>\n",
       "  </tbody>\n",
       "</table>\n",
       "</div>"
      ],
      "text/plain": [
       "                                                                                                                Input_Tweets\n",
       "0  Donald trump , i have no idea how this man became the president of the country #STUPID #WORST_PRESIDENT                  \n",
       "1  @iamrohit you were right ...Kolkata is rightfully called the City of Joy..                                               \n",
       "2  Hell yeah,, @Rogerfedrrer win his 20th Grand Slam #legend                                                                \n",
       "3   The food could not have been more bad, One of the worst restaurant i have dined at , the food actually teatsed like shit\n",
       "4  Machine learning is one of the most intersteing feilds to work on                                                        \n",
       "5   The movie was a bit boring and not so intersting for me also it was slow , overall it was below average !!! #Chappak    "
      ]
     },
     "execution_count": 66,
     "metadata": {},
     "output_type": "execute_result"
    }
   ],
   "source": [
    "IP_Tweets"
   ]
  },
  {
   "cell_type": "code",
   "execution_count": 67,
   "metadata": {},
   "outputs": [
    {
     "data": {
      "text/html": [
       "<div>\n",
       "<style scoped>\n",
       "    .dataframe tbody tr th:only-of-type {\n",
       "        vertical-align: middle;\n",
       "    }\n",
       "\n",
       "    .dataframe tbody tr th {\n",
       "        vertical-align: top;\n",
       "    }\n",
       "\n",
       "    .dataframe thead th {\n",
       "        text-align: right;\n",
       "    }\n",
       "</style>\n",
       "<table border=\"1\" class=\"dataframe\">\n",
       "  <thead>\n",
       "    <tr style=\"text-align: right;\">\n",
       "      <th></th>\n",
       "      <th>Input_Tweets</th>\n",
       "    </tr>\n",
       "  </thead>\n",
       "  <tbody>\n",
       "    <tr>\n",
       "      <th>0</th>\n",
       "      <td>donald trump i have no idea how this man became the president of the country stupid worstpresident</td>\n",
       "    </tr>\n",
       "    <tr>\n",
       "      <th>1</th>\n",
       "      <td>you were right kolkata is rightfully called the city of joy</td>\n",
       "    </tr>\n",
       "    <tr>\n",
       "      <th>2</th>\n",
       "      <td>hell yeah win his th grand slam legend</td>\n",
       "    </tr>\n",
       "    <tr>\n",
       "      <th>3</th>\n",
       "      <td>the food could not have been more bad one of the worst restaurant i have dined at the food actually teatsed like shit</td>\n",
       "    </tr>\n",
       "    <tr>\n",
       "      <th>4</th>\n",
       "      <td>machine learning is one of the most intersteing feilds to work on</td>\n",
       "    </tr>\n",
       "    <tr>\n",
       "      <th>5</th>\n",
       "      <td>the movie was a bit boring and not so intersting for me also it was slow overall it was below average chappak</td>\n",
       "    </tr>\n",
       "  </tbody>\n",
       "</table>\n",
       "</div>"
      ],
      "text/plain": [
       "                                                                                                            Input_Tweets\n",
       "0  donald trump i have no idea how this man became the president of the country stupid worstpresident                   \n",
       "1  you were right kolkata is rightfully called the city of joy                                                          \n",
       "2  hell yeah win his th grand slam legend                                                                               \n",
       "3  the food could not have been more bad one of the worst restaurant i have dined at the food actually teatsed like shit\n",
       "4  machine learning is one of the most intersteing feilds to work on                                                    \n",
       "5  the movie was a bit boring and not so intersting for me also it was slow overall it was below average chappak        "
      ]
     },
     "execution_count": 67,
     "metadata": {},
     "output_type": "execute_result"
    }
   ],
   "source": [
    "IP_Tweets['Input_Tweets'] = IP_Tweets['Input_Tweets'].apply(cleanTxt)\n",
    "IP_Tweets"
   ]
  },
  {
   "cell_type": "code",
   "execution_count": 68,
   "metadata": {},
   "outputs": [
    {
     "data": {
      "text/html": [
       "<div>\n",
       "<style scoped>\n",
       "    .dataframe tbody tr th:only-of-type {\n",
       "        vertical-align: middle;\n",
       "    }\n",
       "\n",
       "    .dataframe tbody tr th {\n",
       "        vertical-align: top;\n",
       "    }\n",
       "\n",
       "    .dataframe thead th {\n",
       "        text-align: right;\n",
       "    }\n",
       "</style>\n",
       "<table border=\"1\" class=\"dataframe\">\n",
       "  <thead>\n",
       "    <tr style=\"text-align: right;\">\n",
       "      <th></th>\n",
       "      <th>Input_Tweets</th>\n",
       "    </tr>\n",
       "  </thead>\n",
       "  <tbody>\n",
       "    <tr>\n",
       "      <th>0</th>\n",
       "      <td>donald trump i have no idea how this man became the president of the country stupid worstpresident</td>\n",
       "    </tr>\n",
       "    <tr>\n",
       "      <th>1</th>\n",
       "      <td>you were right kolkata is rightfully called the city of joy</td>\n",
       "    </tr>\n",
       "    <tr>\n",
       "      <th>2</th>\n",
       "      <td>hell yeah win his th grand slam legend</td>\n",
       "    </tr>\n",
       "    <tr>\n",
       "      <th>3</th>\n",
       "      <td>the food could not have been more bad one of the worst restaurant i have dined at the food actually teatsed like shit</td>\n",
       "    </tr>\n",
       "    <tr>\n",
       "      <th>4</th>\n",
       "      <td>machine learning is one of the most intersteing feilds to work on</td>\n",
       "    </tr>\n",
       "    <tr>\n",
       "      <th>5</th>\n",
       "      <td>the movie was a bit boring and not so intersting for me also it was slow overall it was below average chappak</td>\n",
       "    </tr>\n",
       "  </tbody>\n",
       "</table>\n",
       "</div>"
      ],
      "text/plain": [
       "                                                                                                            Input_Tweets\n",
       "0  donald trump i have no idea how this man became the president of the country stupid worstpresident                   \n",
       "1  you were right kolkata is rightfully called the city of joy                                                          \n",
       "2  hell yeah win his th grand slam legend                                                                               \n",
       "3  the food could not have been more bad one of the worst restaurant i have dined at the food actually teatsed like shit\n",
       "4  machine learning is one of the most intersteing feilds to work on                                                    \n",
       "5  the movie was a bit boring and not so intersting for me also it was slow overall it was below average chappak        "
      ]
     },
     "execution_count": 68,
     "metadata": {},
     "output_type": "execute_result"
    }
   ],
   "source": [
    "IP_Tweets['Input_Tweets'] = IP_Tweets['Input_Tweets'].apply(convertEmoji)\n",
    "IP_Tweets"
   ]
  },
  {
   "cell_type": "code",
   "execution_count": 69,
   "metadata": {},
   "outputs": [
    {
     "data": {
      "text/html": [
       "<div>\n",
       "<style scoped>\n",
       "    .dataframe tbody tr th:only-of-type {\n",
       "        vertical-align: middle;\n",
       "    }\n",
       "\n",
       "    .dataframe tbody tr th {\n",
       "        vertical-align: top;\n",
       "    }\n",
       "\n",
       "    .dataframe thead th {\n",
       "        text-align: right;\n",
       "    }\n",
       "</style>\n",
       "<table border=\"1\" class=\"dataframe\">\n",
       "  <thead>\n",
       "    <tr style=\"text-align: right;\">\n",
       "      <th></th>\n",
       "      <th>Input_Tweets</th>\n",
       "    </tr>\n",
       "  </thead>\n",
       "  <tbody>\n",
       "    <tr>\n",
       "      <th>0</th>\n",
       "      <td>donald trump idea man became president country stupid worstpresident</td>\n",
       "    </tr>\n",
       "    <tr>\n",
       "      <th>1</th>\n",
       "      <td>right kolkata rightfully called city joy</td>\n",
       "    </tr>\n",
       "    <tr>\n",
       "      <th>2</th>\n",
       "      <td>hell yeah win th grand slam legend</td>\n",
       "    </tr>\n",
       "    <tr>\n",
       "      <th>3</th>\n",
       "      <td>food could bad one bad restaurant dined food actually teatsed like shit</td>\n",
       "    </tr>\n",
       "    <tr>\n",
       "      <th>4</th>\n",
       "      <td>machine learning one intersteing feilds work</td>\n",
       "    </tr>\n",
       "    <tr>\n",
       "      <th>5</th>\n",
       "      <td>movie bit boring intersting also slow overall average chappak</td>\n",
       "    </tr>\n",
       "  </tbody>\n",
       "</table>\n",
       "</div>"
      ],
      "text/plain": [
       "                                                              Input_Tweets\n",
       "0  donald trump idea man became president country stupid worstpresident   \n",
       "1  right kolkata rightfully called city joy                               \n",
       "2  hell yeah win th grand slam legend                                     \n",
       "3  food could bad one bad restaurant dined food actually teatsed like shit\n",
       "4  machine learning one intersteing feilds work                           \n",
       "5  movie bit boring intersting also slow overall average chappak          "
      ]
     },
     "execution_count": 69,
     "metadata": {},
     "output_type": "execute_result"
    }
   ],
   "source": [
    "IP_Tweets['Input_Tweets'] = IP_Tweets['Input_Tweets'].apply(Tokenization)\n",
    "IP_Tweets"
   ]
  },
  {
   "cell_type": "code",
   "execution_count": 70,
   "metadata": {},
   "outputs": [
    {
     "data": {
      "text/plain": [
       "array(['donald trump idea man became president country stupid worstpresident',\n",
       "       'right kolkata rightfully called city joy',\n",
       "       'hell yeah win th grand slam legend',\n",
       "       'food could bad one bad restaurant dined food actually teatsed like shit',\n",
       "       'machine learning one intersteing feilds work',\n",
       "       'movie bit boring intersting also slow overall average chappak'],\n",
       "      dtype=object)"
      ]
     },
     "execution_count": 70,
     "metadata": {},
     "output_type": "execute_result"
    }
   ],
   "source": [
    "IPtweets_array = IP_Tweets['Input_Tweets'].values\n",
    "IPtweets_array"
   ]
  },
  {
   "cell_type": "code",
   "execution_count": 71,
   "metadata": {},
   "outputs": [
    {
     "data": {
      "text/plain": [
       "[['donald',\n",
       "  'trump',\n",
       "  'idea',\n",
       "  'man',\n",
       "  'became',\n",
       "  'president',\n",
       "  'country',\n",
       "  'stupid',\n",
       "  'worstpresident'],\n",
       " ['right', 'kolkata', 'rightfully', 'called', 'city', 'joy'],\n",
       " ['hell', 'yeah', 'win', 'th', 'grand', 'slam', 'legend'],\n",
       " ['food',\n",
       "  'could',\n",
       "  'bad',\n",
       "  'one',\n",
       "  'bad',\n",
       "  'restaurant',\n",
       "  'dined',\n",
       "  'food',\n",
       "  'actually',\n",
       "  'teatsed',\n",
       "  'like',\n",
       "  'shit'],\n",
       " ['machine', 'learning', 'one', 'intersteing', 'feilds', 'work'],\n",
       " ['movie',\n",
       "  'bit',\n",
       "  'boring',\n",
       "  'intersting',\n",
       "  'also',\n",
       "  'slow',\n",
       "  'overall',\n",
       "  'average',\n",
       "  'chappak']]"
      ]
     },
     "execution_count": 71,
     "metadata": {},
     "output_type": "execute_result"
    }
   ],
   "source": [
    "Tokenized_IPtweets = [word_tokenize(tweet) for tweet in IPtweets_array]\n",
    "Tokenized_IPtweets"
   ]
  },
  {
   "cell_type": "code",
   "execution_count": 72,
   "metadata": {},
   "outputs": [],
   "source": [
    "IPTweetvec_array = np.zeros((len(Tokenized_IPtweets), Encoding_dim)) #numpy array of all zeros; contains 200 cols and rows= no of tweets\n",
    "\n",
    "#populating the array with corressponding vector representation of tweets\n",
    "for i in range(len(Tokenized_IPtweets)):\n",
    "    IPTweetvec_array[i,:] = Tweet_vector(Tokenized_IPtweets[i])"
   ]
  },
  {
   "cell_type": "code",
   "execution_count": 73,
   "metadata": {},
   "outputs": [
    {
     "data": {
      "text/plain": [
       "[[0.0, 0.0, 1.0],\n",
       " [0.0, 1.0, 0.0],\n",
       " [0.0, 1.0, 0.0],\n",
       " [1.0, 0.0, 0.0],\n",
       " [0.0, 0.0, 1.0],\n",
       " [1.0, 0.0, 0.0]]"
      ]
     },
     "execution_count": 73,
     "metadata": {},
     "output_type": "execute_result"
    }
   ],
   "source": [
    "pred = classifier.predict(IPTweetvec_array)\n",
    "for i in range(len(pred)):\n",
    "    pred[i]= [round(x) for x in pred[i]]\n",
    "    \n",
    "pred = pred.tolist() # to covert 0,1,2 to pos neg and nuetral (printing output purpose)\n",
    "pred"
   ]
  },
  {
   "cell_type": "code",
   "execution_count": 74,
   "metadata": {},
   "outputs": [
    {
     "data": {
      "text/plain": [
       "array([2, 1, 1, 0, 2, 0], dtype=int64)"
      ]
     },
     "execution_count": 74,
     "metadata": {},
     "output_type": "execute_result"
    }
   ],
   "source": [
    "pred_decoded = one_hot_encoder.inverse_transform(pred)\n",
    "pred_decoded = pred_decoded.flatten()\n",
    "pred_decoded"
   ]
  },
  {
   "cell_type": "markdown",
   "metadata": {},
   "source": [
    "# Check Predictions of each given Tweet"
   ]
  },
  {
   "cell_type": "code",
   "execution_count": 75,
   "metadata": {},
   "outputs": [
    {
     "name": "stdout",
     "output_type": "stream",
     "text": [
      "The sentiment for review :\n",
      " Donald trump , i have no idea how this man became the president of the country #STUPID #WORST_PRESIDENT is : Neutral \n",
      "\n",
      "The sentiment for review :\n",
      " @iamrohit you were right ...Kolkata is rightfully called the City of Joy.. is : Positive \n",
      "\n",
      "The sentiment for review :\n",
      " Hell yeah,, @Rogerfedrrer win his 20th Grand Slam #legend is : Positive \n",
      "\n",
      "The sentiment for review :\n",
      "  The food could not have been more bad, One of the worst restaurant i have dined at , the food actually teatsed like shit is : Negetive \n",
      "\n",
      "The sentiment for review :\n",
      " Machine learning is one of the most intersteing feilds to work on is : Neutral \n",
      "\n",
      "The sentiment for review :\n",
      "  The movie was a bit boring and not so intersting for me also it was slow , overall it was below average !!! #Chappak is : Negetive \n",
      "\n"
     ]
    }
   ],
   "source": [
    "user_pred=[]\n",
    "for i in range(len(pred_decoded)):\n",
    "    if(pred_decoded[i] == 0):\n",
    "        user_pred.append('Negetive')\n",
    "    elif(pred_decoded[i]== 1):\n",
    "        user_pred.append('Positive')\n",
    "    else:\n",
    "        user_pred.append('Neutral')\n",
    "\n",
    "for i in range (len(User_Tweets)):\n",
    "    print(\"The sentiment for review :\\n\",User_Tweets[i],\"is :\",user_pred[i],\"\\n\")"
   ]
  },
  {
   "cell_type": "code",
   "execution_count": null,
   "metadata": {},
   "outputs": [],
   "source": []
  }
 ],
 "metadata": {
  "kernelspec": {
   "display_name": "Python 3",
   "language": "python",
   "name": "python3"
  },
  "language_info": {
   "codemirror_mode": {
    "name": "ipython",
    "version": 3
   },
   "file_extension": ".py",
   "mimetype": "text/x-python",
   "name": "python",
   "nbconvert_exporter": "python",
   "pygments_lexer": "ipython3",
   "version": "3.6.5"
  }
 },
 "nbformat": 4,
 "nbformat_minor": 2
}
